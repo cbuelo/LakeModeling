{
 "cells": [
  {
   "cell_type": "code",
   "execution_count": 1,
   "metadata": {},
   "outputs": [],
   "source": [
    "import numpy as np\n",
    "import pandas as pd\n",
    "import random\n",
    "\n",
    "import torch\n",
    "import torch.nn as nn\n",
    "import torch.nn.functional as F\n",
    "\n",
    "import seaborn as sns\n",
    "import matplotlib.pyplot as plt\n",
    "import os\n",
    "\n",
    "from sklearn.model_selection import train_test_split\n",
    "from sklearn.preprocessing import StandardScaler\n",
    "from collections import OrderedDict\n",
    "from tqdm import tqdm\n",
    "\n",
    "import warnings\n",
    "warnings.filterwarnings(\"ignore\")"
   ]
  },
  {
   "cell_type": "code",
   "execution_count": 2,
   "metadata": {},
   "outputs": [
    {
     "name": "stdout",
     "output_type": "stream",
     "text": [
      "cuda:2\n"
     ]
    }
   ],
   "source": [
    "# CUDA support \n",
    "if torch.cuda.is_available():\n",
    "    device = torch.device('cuda:2')\n",
    "else:\n",
    "    device = torch.device('cpu')\n",
    "    \n",
    "print(device)"
   ]
  },
  {
   "cell_type": "code",
   "execution_count": 3,
   "metadata": {},
   "outputs": [],
   "source": [
    "# the deep neural network\n",
    "class MLP(torch.nn.Module):\n",
    "    def __init__(self, layers, activation=\"relu\", init=\"xavier\"):\n",
    "        super(MLP, self).__init__()\n",
    "        \n",
    "        # parameters\n",
    "        self.depth = len(layers) - 1\n",
    "        \n",
    "        if activation == \"relu\":\n",
    "            self.activation = torch.nn.ReLU()\n",
    "        elif activation == \"tanh\":\n",
    "            self.activation = torch.nn.Tanh()\n",
    "        elif activation == \"gelu\":\n",
    "            self.activation = torch.nn.GELU()\n",
    "        else:\n",
    "            raise ValueError(\"Unspecified activation type\")\n",
    "        \n",
    "        \n",
    "        layer_list = list()\n",
    "        for i in range(self.depth - 1): \n",
    "            layer_list.append(\n",
    "                ('layer_%d' % i, torch.nn.Linear(layers[i], layers[i+1]))\n",
    "            )\n",
    "            layer_list.append(('activation_%d' % i, self.activation))\n",
    "            \n",
    "        layer_list.append(\n",
    "            ('layer_%d' % (self.depth - 1), torch.nn.Linear(layers[-2], layers[-1]))\n",
    "        )\n",
    "        layerDict = OrderedDict(layer_list)\n",
    "        \n",
    "        # deploy layers\n",
    "        self.layers = torch.nn.Sequential(layerDict)\n",
    "\n",
    "        if init==\"xavier\":\n",
    "            self.xavier_init_weights()\n",
    "        elif init==\"kaiming\":\n",
    "            self.kaiming_init_weights()\n",
    "    \n",
    "    def xavier_init_weights(self):\n",
    "        with torch.no_grad():\n",
    "            print(\"Initializing Network with Xavier Initialization..\")\n",
    "            for m in self.layers.modules():\n",
    "                if hasattr(m, 'weight'):\n",
    "                    nn.init.xavier_uniform_(m.weight)\n",
    "                    m.bias.data.fill_(0.0)\n",
    "\n",
    "    def kaiming_init_weights(self):\n",
    "        with torch.no_grad():\n",
    "            print(\"Initializing Network with Kaiming Initialization..\")\n",
    "            for m in self.layers.modules():\n",
    "                if hasattr(m, 'weight'):\n",
    "                    nn.init.kaiming_uniform_(m.weight)\n",
    "                    m.bias.data.fill_(0.0)\n",
    "                        \n",
    "    def forward(self, x):\n",
    "        out = self.layers(x)\n",
    "        return out\n",
    "    \n",
    "class DataGenerator(torch.utils.data.Dataset):\n",
    "    def __init__(self, X, Y):\n",
    "        self.X = X\n",
    "        self.Y = Y\n",
    "        \n",
    "    def __getitem__(self, index):\n",
    "        return self.X[index], self.Y[index]\n",
    "    \n",
    "    def __len__(self):\n",
    "        return len(self.X)"
   ]
  },
  {
   "cell_type": "code",
   "execution_count": 4,
   "metadata": {},
   "outputs": [
    {
     "data": {
      "text/html": [
       "<div>\n",
       "<style scoped>\n",
       "    .dataframe tbody tr th:only-of-type {\n",
       "        vertical-align: middle;\n",
       "    }\n",
       "\n",
       "    .dataframe tbody tr th {\n",
       "        vertical-align: top;\n",
       "    }\n",
       "\n",
       "    .dataframe thead th {\n",
       "        text-align: right;\n",
       "    }\n",
       "</style>\n",
       "<table border=\"1\" class=\"dataframe\">\n",
       "  <thead>\n",
       "    <tr style=\"text-align: right;\">\n",
       "      <th></th>\n",
       "      <th>depth</th>\n",
       "      <th>AirTemp_degC</th>\n",
       "      <th>Longwave_Wm-2</th>\n",
       "      <th>Latent_Wm-2</th>\n",
       "      <th>Sensible_Wm-2</th>\n",
       "      <th>Shortwave_Wm-2</th>\n",
       "      <th>lightExtinct_m-1</th>\n",
       "      <th>ShearVelocity_mS-1</th>\n",
       "      <th>ShearStress_Nm-2</th>\n",
       "      <th>Area_m2</th>\n",
       "      <th>input_temp</th>\n",
       "      <th>temp_total04</th>\n",
       "      <th>buoyancy</th>\n",
       "      <th>diffusivity</th>\n",
       "      <th>temp_diff01</th>\n",
       "      <th>day_of_year</th>\n",
       "      <th>time_of_day</th>\n",
       "      <th>temp_mix02</th>\n",
       "      <th>temp_conv03</th>\n",
       "    </tr>\n",
       "  </thead>\n",
       "  <tbody>\n",
       "    <tr>\n",
       "      <th>0</th>\n",
       "      <td>1</td>\n",
       "      <td>14.941830</td>\n",
       "      <td>718.930274</td>\n",
       "      <td>-123.823552</td>\n",
       "      <td>23.479414</td>\n",
       "      <td>140.349623</td>\n",
       "      <td>0.285668</td>\n",
       "      <td>2.006798</td>\n",
       "      <td>0.006119</td>\n",
       "      <td>36000000.0</td>\n",
       "      <td>9.902005</td>\n",
       "      <td>9.920997</td>\n",
       "      <td>-0.000004</td>\n",
       "      <td>0.000037</td>\n",
       "      <td>9.927059</td>\n",
       "      <td>152</td>\n",
       "      <td>6</td>\n",
       "      <td>9.920997</td>\n",
       "      <td>9.920997</td>\n",
       "    </tr>\n",
       "    <tr>\n",
       "      <th>1</th>\n",
       "      <td>2</td>\n",
       "      <td>14.941830</td>\n",
       "      <td>718.930274</td>\n",
       "      <td>-123.823552</td>\n",
       "      <td>23.479414</td>\n",
       "      <td>140.349623</td>\n",
       "      <td>0.285668</td>\n",
       "      <td>2.006798</td>\n",
       "      <td>0.006119</td>\n",
       "      <td>36000000.0</td>\n",
       "      <td>9.902005</td>\n",
       "      <td>9.916958</td>\n",
       "      <td>-0.000004</td>\n",
       "      <td>0.000037</td>\n",
       "      <td>9.914578</td>\n",
       "      <td>152</td>\n",
       "      <td>6</td>\n",
       "      <td>9.916958</td>\n",
       "      <td>9.916958</td>\n",
       "    </tr>\n",
       "    <tr>\n",
       "      <th>2</th>\n",
       "      <td>3</td>\n",
       "      <td>14.941830</td>\n",
       "      <td>718.930274</td>\n",
       "      <td>-123.823552</td>\n",
       "      <td>23.479414</td>\n",
       "      <td>140.349623</td>\n",
       "      <td>0.285668</td>\n",
       "      <td>2.006798</td>\n",
       "      <td>0.006119</td>\n",
       "      <td>36000000.0</td>\n",
       "      <td>9.907246</td>\n",
       "      <td>9.904266</td>\n",
       "      <td>0.000013</td>\n",
       "      <td>0.000037</td>\n",
       "      <td>9.912680</td>\n",
       "      <td>152</td>\n",
       "      <td>6</td>\n",
       "      <td>9.904266</td>\n",
       "      <td>9.904266</td>\n",
       "    </tr>\n",
       "    <tr>\n",
       "      <th>3</th>\n",
       "      <td>4</td>\n",
       "      <td>14.941830</td>\n",
       "      <td>718.930274</td>\n",
       "      <td>-123.823552</td>\n",
       "      <td>23.479414</td>\n",
       "      <td>140.349623</td>\n",
       "      <td>0.285668</td>\n",
       "      <td>2.006798</td>\n",
       "      <td>0.006119</td>\n",
       "      <td>36000000.0</td>\n",
       "      <td>9.886432</td>\n",
       "      <td>9.878656</td>\n",
       "      <td>0.000050</td>\n",
       "      <td>0.000037</td>\n",
       "      <td>9.890842</td>\n",
       "      <td>152</td>\n",
       "      <td>6</td>\n",
       "      <td>9.878656</td>\n",
       "      <td>9.878656</td>\n",
       "    </tr>\n",
       "    <tr>\n",
       "      <th>4</th>\n",
       "      <td>5</td>\n",
       "      <td>14.941830</td>\n",
       "      <td>718.930274</td>\n",
       "      <td>-123.823552</td>\n",
       "      <td>23.479414</td>\n",
       "      <td>140.349623</td>\n",
       "      <td>0.285668</td>\n",
       "      <td>2.006798</td>\n",
       "      <td>0.006119</td>\n",
       "      <td>36000000.0</td>\n",
       "      <td>9.848469</td>\n",
       "      <td>9.840656</td>\n",
       "      <td>0.000074</td>\n",
       "      <td>0.000037</td>\n",
       "      <td>9.851914</td>\n",
       "      <td>152</td>\n",
       "      <td>6</td>\n",
       "      <td>9.840656</td>\n",
       "      <td>9.840656</td>\n",
       "    </tr>\n",
       "    <tr>\n",
       "      <th>...</th>\n",
       "      <td>...</td>\n",
       "      <td>...</td>\n",
       "      <td>...</td>\n",
       "      <td>...</td>\n",
       "      <td>...</td>\n",
       "      <td>...</td>\n",
       "      <td>...</td>\n",
       "      <td>...</td>\n",
       "      <td>...</td>\n",
       "      <td>...</td>\n",
       "      <td>...</td>\n",
       "      <td>...</td>\n",
       "      <td>...</td>\n",
       "      <td>...</td>\n",
       "      <td>...</td>\n",
       "      <td>...</td>\n",
       "      <td>...</td>\n",
       "      <td>...</td>\n",
       "      <td>...</td>\n",
       "    </tr>\n",
       "    <tr>\n",
       "      <th>55195</th>\n",
       "      <td>21</td>\n",
       "      <td>8.158799</td>\n",
       "      <td>715.639026</td>\n",
       "      <td>-243.644276</td>\n",
       "      <td>-72.050019</td>\n",
       "      <td>0.000000</td>\n",
       "      <td>1.416667</td>\n",
       "      <td>1.672067</td>\n",
       "      <td>0.004574</td>\n",
       "      <td>36000000.0</td>\n",
       "      <td>8.682822</td>\n",
       "      <td>8.683785</td>\n",
       "      <td>0.001746</td>\n",
       "      <td>0.000013</td>\n",
       "      <td>8.683785</td>\n",
       "      <td>244</td>\n",
       "      <td>5</td>\n",
       "      <td>8.683785</td>\n",
       "      <td>8.683785</td>\n",
       "    </tr>\n",
       "    <tr>\n",
       "      <th>55196</th>\n",
       "      <td>22</td>\n",
       "      <td>8.158799</td>\n",
       "      <td>715.639026</td>\n",
       "      <td>-243.644276</td>\n",
       "      <td>-72.050019</td>\n",
       "      <td>0.000000</td>\n",
       "      <td>1.416667</td>\n",
       "      <td>1.672067</td>\n",
       "      <td>0.004574</td>\n",
       "      <td>36000000.0</td>\n",
       "      <td>7.425032</td>\n",
       "      <td>7.425783</td>\n",
       "      <td>0.001285</td>\n",
       "      <td>0.000016</td>\n",
       "      <td>7.425783</td>\n",
       "      <td>244</td>\n",
       "      <td>5</td>\n",
       "      <td>7.425783</td>\n",
       "      <td>7.425783</td>\n",
       "    </tr>\n",
       "    <tr>\n",
       "      <th>55197</th>\n",
       "      <td>23</td>\n",
       "      <td>8.158799</td>\n",
       "      <td>715.639026</td>\n",
       "      <td>-243.644276</td>\n",
       "      <td>-72.050019</td>\n",
       "      <td>0.000000</td>\n",
       "      <td>1.416667</td>\n",
       "      <td>1.672067</td>\n",
       "      <td>0.004574</td>\n",
       "      <td>36000000.0</td>\n",
       "      <td>6.179781</td>\n",
       "      <td>6.180297</td>\n",
       "      <td>0.000828</td>\n",
       "      <td>0.000020</td>\n",
       "      <td>6.180297</td>\n",
       "      <td>244</td>\n",
       "      <td>5</td>\n",
       "      <td>6.180297</td>\n",
       "      <td>6.180297</td>\n",
       "    </tr>\n",
       "    <tr>\n",
       "      <th>55198</th>\n",
       "      <td>24</td>\n",
       "      <td>8.158799</td>\n",
       "      <td>715.639026</td>\n",
       "      <td>-243.644276</td>\n",
       "      <td>-72.050019</td>\n",
       "      <td>0.000000</td>\n",
       "      <td>1.416667</td>\n",
       "      <td>1.672067</td>\n",
       "      <td>0.004574</td>\n",
       "      <td>36000000.0</td>\n",
       "      <td>4.940607</td>\n",
       "      <td>4.940868</td>\n",
       "      <td>0.000365</td>\n",
       "      <td>0.000037</td>\n",
       "      <td>4.940868</td>\n",
       "      <td>244</td>\n",
       "      <td>5</td>\n",
       "      <td>4.940868</td>\n",
       "      <td>4.940868</td>\n",
       "    </tr>\n",
       "    <tr>\n",
       "      <th>55199</th>\n",
       "      <td>25</td>\n",
       "      <td>8.158799</td>\n",
       "      <td>715.639026</td>\n",
       "      <td>-243.644276</td>\n",
       "      <td>-72.050019</td>\n",
       "      <td>0.000000</td>\n",
       "      <td>1.416667</td>\n",
       "      <td>1.672067</td>\n",
       "      <td>0.004574</td>\n",
       "      <td>36000000.0</td>\n",
       "      <td>3.702740</td>\n",
       "      <td>3.702740</td>\n",
       "      <td>0.000365</td>\n",
       "      <td>0.000037</td>\n",
       "      <td>3.702740</td>\n",
       "      <td>244</td>\n",
       "      <td>5</td>\n",
       "      <td>3.702740</td>\n",
       "      <td>3.702740</td>\n",
       "    </tr>\n",
       "  </tbody>\n",
       "</table>\n",
       "<p>55200 rows × 19 columns</p>\n",
       "</div>"
      ],
      "text/plain": [
       "       depth  AirTemp_degC  Longwave_Wm-2  Latent_Wm-2  Sensible_Wm-2  \\\n",
       "0          1     14.941830     718.930274  -123.823552      23.479414   \n",
       "1          2     14.941830     718.930274  -123.823552      23.479414   \n",
       "2          3     14.941830     718.930274  -123.823552      23.479414   \n",
       "3          4     14.941830     718.930274  -123.823552      23.479414   \n",
       "4          5     14.941830     718.930274  -123.823552      23.479414   \n",
       "...      ...           ...            ...          ...            ...   \n",
       "55195     21      8.158799     715.639026  -243.644276     -72.050019   \n",
       "55196     22      8.158799     715.639026  -243.644276     -72.050019   \n",
       "55197     23      8.158799     715.639026  -243.644276     -72.050019   \n",
       "55198     24      8.158799     715.639026  -243.644276     -72.050019   \n",
       "55199     25      8.158799     715.639026  -243.644276     -72.050019   \n",
       "\n",
       "       Shortwave_Wm-2  lightExtinct_m-1  ShearVelocity_mS-1  ShearStress_Nm-2  \\\n",
       "0          140.349623          0.285668            2.006798          0.006119   \n",
       "1          140.349623          0.285668            2.006798          0.006119   \n",
       "2          140.349623          0.285668            2.006798          0.006119   \n",
       "3          140.349623          0.285668            2.006798          0.006119   \n",
       "4          140.349623          0.285668            2.006798          0.006119   \n",
       "...               ...               ...                 ...               ...   \n",
       "55195        0.000000          1.416667            1.672067          0.004574   \n",
       "55196        0.000000          1.416667            1.672067          0.004574   \n",
       "55197        0.000000          1.416667            1.672067          0.004574   \n",
       "55198        0.000000          1.416667            1.672067          0.004574   \n",
       "55199        0.000000          1.416667            1.672067          0.004574   \n",
       "\n",
       "          Area_m2  input_temp  temp_total04  buoyancy  diffusivity  \\\n",
       "0      36000000.0    9.902005      9.920997 -0.000004     0.000037   \n",
       "1      36000000.0    9.902005      9.916958 -0.000004     0.000037   \n",
       "2      36000000.0    9.907246      9.904266  0.000013     0.000037   \n",
       "3      36000000.0    9.886432      9.878656  0.000050     0.000037   \n",
       "4      36000000.0    9.848469      9.840656  0.000074     0.000037   \n",
       "...           ...         ...           ...       ...          ...   \n",
       "55195  36000000.0    8.682822      8.683785  0.001746     0.000013   \n",
       "55196  36000000.0    7.425032      7.425783  0.001285     0.000016   \n",
       "55197  36000000.0    6.179781      6.180297  0.000828     0.000020   \n",
       "55198  36000000.0    4.940607      4.940868  0.000365     0.000037   \n",
       "55199  36000000.0    3.702740      3.702740  0.000365     0.000037   \n",
       "\n",
       "       temp_diff01  day_of_year  time_of_day  temp_mix02  temp_conv03  \n",
       "0         9.927059          152            6    9.920997     9.920997  \n",
       "1         9.914578          152            6    9.916958     9.916958  \n",
       "2         9.912680          152            6    9.904266     9.904266  \n",
       "3         9.890842          152            6    9.878656     9.878656  \n",
       "4         9.851914          152            6    9.840656     9.840656  \n",
       "...            ...          ...          ...         ...          ...  \n",
       "55195     8.683785          244            5    8.683785     8.683785  \n",
       "55196     7.425783          244            5    7.425783     7.425783  \n",
       "55197     6.180297          244            5    6.180297     6.180297  \n",
       "55198     4.940868          244            5    4.940868     4.940868  \n",
       "55199     3.702740          244            5    3.702740     3.702740  \n",
       "\n",
       "[55200 rows x 19 columns]"
      ]
     },
     "execution_count": 4,
     "metadata": {},
     "output_type": "execute_result"
    }
   ],
   "source": [
    "data_df = pd.read_csv(\"all_data_lake_modeling_in_time.csv\")\n",
    "data_df = data_df.drop(columns=['time'])\n",
    "data_df"
   ]
  },
  {
   "cell_type": "code",
   "execution_count": 5,
   "metadata": {},
   "outputs": [
    {
     "name": "stdout",
     "output_type": "stream",
     "text": [
      "Number of days total: 2208\n",
      "Number of training points: 33100\n"
     ]
    }
   ],
   "source": [
    "training_frac = 0.60\n",
    "depth_steps = 25\n",
    "number_days = len(data_df)//depth_steps\n",
    "n_obs = int(number_days*training_frac)*depth_steps\n",
    "print(f\"Number of days total: {number_days}\")\n",
    "print(f\"Number of training points: {n_obs}\")"
   ]
  },
  {
   "cell_type": "markdown",
   "metadata": {},
   "source": [
    "# Normalizing Data"
   ]
  },
  {
   "cell_type": "code",
   "execution_count": 6,
   "metadata": {},
   "outputs": [],
   "source": [
    "data = data_df.values\n",
    "\n",
    "train_data = data[:n_obs]\n",
    "test_data = data[n_obs:]\n",
    "\n",
    "#performing normalization on all the columns\n",
    "scaler = StandardScaler()\n",
    "scaler.fit(train_data)\n",
    "train_data = scaler.transform(train_data)\n",
    "test_data = scaler.transform(test_data)"
   ]
  },
  {
   "cell_type": "markdown",
   "metadata": {},
   "source": [
    "# Training Heat Diffusion Model"
   ]
  },
  {
   "cell_type": "code",
   "execution_count": 7,
   "metadata": {},
   "outputs": [],
   "source": [
    "input_columns = ['depth', 'AirTemp_degC', 'Longwave_Wm-2', 'Latent_Wm-2', 'Sensible_Wm-2', 'Shortwave_Wm-2',\n",
    "                'lightExtinct_m-1', 'ShearVelocity_mS-1', 'ShearStress_Nm-2', 'Area_m2', \n",
    "                 'buoyancy', 'day_of_year', 'time_of_day', 'input_temp']\n",
    "output_columns = ['diffusivity', 'temp_diff01']\n",
    "\n",
    "input_column_ix = [data_df.columns.get_loc(column) for column in input_columns]\n",
    "output_column_ix = [data_df.columns.get_loc(column) for column in output_columns]\n",
    "\n",
    "X_train, X_test = train_data[:,input_column_ix], test_data[:,input_column_ix]\n",
    "y_train, y_test = train_data[:,output_column_ix], test_data[:,output_column_ix]"
   ]
  },
  {
   "cell_type": "code",
   "execution_count": 8,
   "metadata": {},
   "outputs": [
    {
     "name": "stdout",
     "output_type": "stream",
     "text": [
      "X_train: (33100, 14), X_test: (22100, 14)\n",
      "y_train: (33100, 2), y_test: (22100, 2)\n"
     ]
    }
   ],
   "source": [
    "print(f\"X_train: {X_train.shape}, X_test: {X_test.shape}\")\n",
    "print(f\"y_train: {y_train.shape}, y_test: {y_test.shape}\")"
   ]
  },
  {
   "cell_type": "code",
   "execution_count": 9,
   "metadata": {},
   "outputs": [],
   "source": [
    "#keeping track of the mean and standard deviations\n",
    "train_mean = scaler.mean_\n",
    "train_std = scaler.scale_\n",
    "\n",
    "input_mean, input_std = train_mean[input_column_ix], train_std[input_column_ix]\n",
    "output_mean, output_std = train_mean[output_column_ix], train_std[output_column_ix]"
   ]
  },
  {
   "cell_type": "code",
   "execution_count": 10,
   "metadata": {},
   "outputs": [],
   "source": [
    "# Create data set\n",
    "batch_size = 1024\n",
    "train_dataset = DataGenerator(X_train, y_train)\n",
    "test_dataset = DataGenerator(X_test, y_test)\n",
    "# train_dataset = torch.utils.data.TensorDataset(X_train, y_train)\n",
    "# test_dataset = torch.utils.data.TensorDataset(X_test, y_test)\n",
    "\n",
    "train_loader = torch.utils.data.DataLoader(train_dataset, batch_size=batch_size, \n",
    "                                           shuffle=True)\n",
    "test_loader = torch.utils.data.DataLoader(test_dataset, batch_size=batch_size,\n",
    "                                          shuffle=False)"
   ]
  },
  {
   "cell_type": "code",
   "execution_count": 11,
   "metadata": {},
   "outputs": [
    {
     "name": "stdout",
     "output_type": "stream",
     "text": [
      "Initializing Network with Xavier Initialization..\n"
     ]
    }
   ],
   "source": [
    "layers = [X_train.shape[-1], 32, 32, y_train.shape[-1]]\n",
    "\n",
    "model = MLP(layers, activation=\"gelu\").to(device)"
   ]
  },
  {
   "cell_type": "code",
   "execution_count": 12,
   "metadata": {},
   "outputs": [],
   "source": [
    "lr = 1e-3\n",
    "decay_rate = 0.1\n",
    "decay_steps = 500\n",
    "    \n",
    "optimizer = torch.optim.Adam(model.parameters(), lr=lr, \n",
    "                         betas=(0.9, 0.999), eps=1e-08, weight_decay=0, amsgrad=False)\n",
    "lr_scheduler = torch.optim.lr_scheduler.StepLR(optimizer, step_size=decay_steps, gamma=decay_rate)\n",
    "\n",
    "criterion = torch.nn.MSELoss()"
   ]
  },
  {
   "cell_type": "code",
   "execution_count": 13,
   "metadata": {},
   "outputs": [
    {
     "name": "stdout",
     "output_type": "stream",
     "text": [
      "MLP(\n",
      "  (activation): GELU()\n",
      "  (layers): Sequential(\n",
      "    (layer_0): Linear(in_features=14, out_features=32, bias=True)\n",
      "    (activation_0): GELU()\n",
      "    (layer_1): Linear(in_features=32, out_features=32, bias=True)\n",
      "    (activation_1): GELU()\n",
      "    (layer_2): Linear(in_features=32, out_features=2, bias=True)\n",
      "  )\n",
      ")\n"
     ]
    }
   ],
   "source": [
    "print(model)"
   ]
  },
  {
   "cell_type": "code",
   "execution_count": 14,
   "metadata": {},
   "outputs": [
    {
     "name": "stderr",
     "output_type": "stream",
     "text": [
      "  0%|          | 2/1000 [00:00<04:41,  3.54it/s]"
     ]
    },
    {
     "name": "stdout",
     "output_type": "stream",
     "text": [
      "Epoch : 0, Train_loss: 0.7510201813596667, Test_loss: 0.7273570624264803\n"
     ]
    },
    {
     "name": "stderr",
     "output_type": "stream",
     "text": [
      "  5%|▌         | 51/1000 [00:14<05:29,  2.88it/s]"
     ]
    },
    {
     "name": "stdout",
     "output_type": "stream",
     "text": [
      "Epoch : 50, Train_loss: 0.02588222508854938, Test_loss: 0.06121973955834454\n"
     ]
    },
    {
     "name": "stderr",
     "output_type": "stream",
     "text": [
      " 10%|█         | 101/1000 [00:29<05:16,  2.84it/s]"
     ]
    },
    {
     "name": "stdout",
     "output_type": "stream",
     "text": [
      "Epoch : 100, Train_loss: 0.023029036311940712, Test_loss: 0.06505377480590885\n"
     ]
    },
    {
     "name": "stderr",
     "output_type": "stream",
     "text": [
      " 15%|█▌        | 151/1000 [00:44<04:55,  2.87it/s]"
     ]
    },
    {
     "name": "stdout",
     "output_type": "stream",
     "text": [
      "Epoch : 150, Train_loss: 0.022041221995922653, Test_loss: 0.054350409572097386\n"
     ]
    },
    {
     "name": "stderr",
     "output_type": "stream",
     "text": [
      " 20%|██        | 201/1000 [01:00<04:32,  2.93it/s]"
     ]
    },
    {
     "name": "stdout",
     "output_type": "stream",
     "text": [
      "Epoch : 200, Train_loss: 0.021393650042062454, Test_loss: 0.05006287797269496\n"
     ]
    },
    {
     "name": "stderr",
     "output_type": "stream",
     "text": [
      " 25%|██▌       | 251/1000 [01:15<04:26,  2.81it/s]"
     ]
    },
    {
     "name": "stdout",
     "output_type": "stream",
     "text": [
      "Epoch : 250, Train_loss: 0.020827249426281814, Test_loss: 0.05274170315401121\n"
     ]
    },
    {
     "name": "stderr",
     "output_type": "stream",
     "text": [
      " 30%|███       | 301/1000 [01:31<04:07,  2.83it/s]"
     ]
    },
    {
     "name": "stdout",
     "output_type": "stream",
     "text": [
      "Epoch : 300, Train_loss: 0.020275515927509827, Test_loss: 0.05661710660735315\n"
     ]
    },
    {
     "name": "stderr",
     "output_type": "stream",
     "text": [
      " 35%|███▌      | 351/1000 [01:47<03:46,  2.86it/s]"
     ]
    },
    {
     "name": "stdout",
     "output_type": "stream",
     "text": [
      "Epoch : 350, Train_loss: 0.019872340345473, Test_loss: 0.058416503058238464\n"
     ]
    },
    {
     "name": "stderr",
     "output_type": "stream",
     "text": [
      " 40%|████      | 401/1000 [02:02<03:27,  2.89it/s]"
     ]
    },
    {
     "name": "stdout",
     "output_type": "stream",
     "text": [
      "Epoch : 400, Train_loss: 0.01943272343752059, Test_loss: 0.059057500806044445\n"
     ]
    },
    {
     "name": "stderr",
     "output_type": "stream",
     "text": [
      " 45%|████▌     | 451/1000 [02:18<03:13,  2.84it/s]"
     ]
    },
    {
     "name": "stdout",
     "output_type": "stream",
     "text": [
      "Epoch : 450, Train_loss: 0.018959391043719017, Test_loss: 0.06135242102159695\n"
     ]
    },
    {
     "name": "stderr",
     "output_type": "stream",
     "text": [
      " 50%|█████     | 501/1000 [02:33<02:56,  2.83it/s]"
     ]
    },
    {
     "name": "stdout",
     "output_type": "stream",
     "text": [
      "Epoch : 500, Train_loss: 0.01830354335746079, Test_loss: 0.059002968059344726\n"
     ]
    },
    {
     "name": "stderr",
     "output_type": "stream",
     "text": [
      " 55%|█████▌    | 551/1000 [02:49<02:39,  2.82it/s]"
     ]
    },
    {
     "name": "stdout",
     "output_type": "stream",
     "text": [
      "Epoch : 550, Train_loss: 0.018422325141727924, Test_loss: 0.05983911742540923\n"
     ]
    },
    {
     "name": "stderr",
     "output_type": "stream",
     "text": [
      " 60%|██████    | 601/1000 [03:05<02:16,  2.91it/s]"
     ]
    },
    {
     "name": "stdout",
     "output_type": "stream",
     "text": [
      "Epoch : 600, Train_loss: 0.018207175120937103, Test_loss: 0.059537031391466204\n"
     ]
    },
    {
     "name": "stderr",
     "output_type": "stream",
     "text": [
      " 65%|██████▌   | 651/1000 [03:20<02:02,  2.85it/s]"
     ]
    },
    {
     "name": "stdout",
     "output_type": "stream",
     "text": [
      "Epoch : 650, Train_loss: 0.017997125361227627, Test_loss: 0.061099276285279884\n"
     ]
    },
    {
     "name": "stderr",
     "output_type": "stream",
     "text": [
      " 70%|███████   | 701/1000 [03:37<01:54,  2.62it/s]"
     ]
    },
    {
     "name": "stdout",
     "output_type": "stream",
     "text": [
      "Epoch : 700, Train_loss: 0.018112134470632583, Test_loss: 0.06189025142653422\n"
     ]
    },
    {
     "name": "stderr",
     "output_type": "stream",
     "text": [
      " 75%|███████▌  | 751/1000 [03:53<01:30,  2.74it/s]"
     ]
    },
    {
     "name": "stdout",
     "output_type": "stream",
     "text": [
      "Epoch : 750, Train_loss: 0.01790845583221226, Test_loss: 0.06121299576691606\n"
     ]
    },
    {
     "name": "stderr",
     "output_type": "stream",
     "text": [
      " 80%|████████  | 801/1000 [04:08<01:08,  2.90it/s]"
     ]
    },
    {
     "name": "stdout",
     "output_type": "stream",
     "text": [
      "Epoch : 800, Train_loss: 0.018051026078561943, Test_loss: 0.06085363081233068\n"
     ]
    },
    {
     "name": "stderr",
     "output_type": "stream",
     "text": [
      " 85%|████████▌ | 851/1000 [04:24<00:53,  2.80it/s]"
     ]
    },
    {
     "name": "stdout",
     "output_type": "stream",
     "text": [
      "Epoch : 850, Train_loss: 0.01793343864494201, Test_loss: 0.06208351110531525\n"
     ]
    },
    {
     "name": "stderr",
     "output_type": "stream",
     "text": [
      " 90%|█████████ | 901/1000 [04:40<00:35,  2.82it/s]"
     ]
    },
    {
     "name": "stdout",
     "output_type": "stream",
     "text": [
      "Epoch : 900, Train_loss: 0.017866383024463146, Test_loss: 0.062017586674879895\n"
     ]
    },
    {
     "name": "stderr",
     "output_type": "stream",
     "text": [
      " 95%|█████████▌| 951/1000 [04:56<00:17,  2.83it/s]"
     ]
    },
    {
     "name": "stdout",
     "output_type": "stream",
     "text": [
      "Epoch : 950, Train_loss: 0.017970988724493618, Test_loss: 0.06278274800967086\n"
     ]
    },
    {
     "name": "stderr",
     "output_type": "stream",
     "text": [
      "100%|██████████| 1000/1000 [05:11<00:00,  3.21it/s]\n"
     ]
    }
   ],
   "source": [
    "n_epochs = 1000\n",
    "\n",
    "train_loss = []\n",
    "test_loss = []\n",
    "for it in tqdm(range(n_epochs)):\n",
    "    loss_epoch = 0\n",
    "    model.train()\n",
    "    for x, y in iter(train_loader):\n",
    "        x, y = x.to(device).float(), y.to(device).float()\n",
    "        optimizer.zero_grad()\n",
    "        pred = model(x)\n",
    "        loss = criterion(pred, y)\n",
    "        loss.backward()\n",
    "        optimizer.step()\n",
    "        loss_epoch += loss.detach().item()\n",
    "    lr_scheduler.step()\n",
    "    \n",
    "    if it % 50 == 0:\n",
    "        train_loss.append(loss_epoch/len(train_loader))\n",
    "        model.eval()\n",
    "        test_loss_epoch = 0\n",
    "        for x, y in iter(test_loader):\n",
    "            x, y = x.to(device).float(), y.to(device).float()\n",
    "            pred = model(x)\n",
    "            loss = criterion(pred, y)\n",
    "            test_loss_epoch += loss.detach().item()\n",
    "        test_loss.append(test_loss_epoch/len(test_loader))\n",
    "        print(f\"Epoch : {it}, Train_loss: {train_loss[-1]}, Test_loss: {test_loss[-1]}\")\n",
    "    "
   ]
  },
  {
   "cell_type": "code",
   "execution_count": 15,
   "metadata": {},
   "outputs": [
    {
     "data": {
      "image/png": "[encoded data removed]",
      "text/plain": [
       "<Figure size 576x432 with 1 Axes>"
      ]
     },
     "metadata": {
      "needs_background": "light"
     },
     "output_type": "display_data"
    }
   ],
   "source": [
    "plt.figure(figsize=(8,6))\n",
    "plt.plot(train_loss, label=\"Train\", linewidth=2.5)\n",
    "plt.plot(test_loss, label=\"Test\", linewidth=2.5)\n",
    "plt.grid(\"on\", alpha=0.2)\n",
    "plt.legend(fontsize=18)\n",
    "plt.yscale(\"log\")\n",
    "plt.xlabel(\"Epochs\", fontsize=18)\n",
    "plt.ylabel(\"Loss\", fontsize=18)\n",
    "plt.show()"
   ]
  },
  {
   "cell_type": "markdown",
   "metadata": {},
   "source": [
    "# Evaluating Results"
   ]
  },
  {
   "cell_type": "code",
   "execution_count": 16,
   "metadata": {},
   "outputs": [],
   "source": [
    "def rmse(true, pred):\n",
    "    return (((true-pred)**2).mean()**0.5).detach().cpu().numpy()\n",
    "\n",
    "def l2_error(true, pred):\n",
    "    return np.linalg.norm(pred.detach().cpu().numpy() - true.detach().cpu().numpy()) / np.linalg.norm(true.detach().cpu().numpy()) \n",
    "\n",
    "def compute_metrics(model, loader, mean=0.0, std=1.0):\n",
    "    model.eval()\n",
    "    y_ = []\n",
    "    pred_ = []\n",
    "    mean = torch.tensor(mean).to(device)\n",
    "    std = torch.tensor(std).to(device)\n",
    "    for x, y in iter(loader):\n",
    "        x, y = x.to(device).float(), y.to(device).float()\n",
    "        pred = model(x)\n",
    "        y = y * std + mean\n",
    "        pred = pred * std + mean\n",
    "        y_.append(y)\n",
    "        pred_.append(pred)\n",
    "    y_ = torch.cat(y_, dim=0) \n",
    "    pred_ = torch.cat(pred_, dim=0)\n",
    "    \n",
    "    rmse_diff = rmse(y_[:,0], pred_[:,0])\n",
    "    rmse_temp = rmse(y_[:,1], pred_[:,1])\n",
    "    \n",
    "    l2_error_diff = l2_error(y_[:,0], pred_[:,0])\n",
    "    l2_error_temp = l2_error(y_[:,1], pred_[:,1])\n",
    "    return rmse_diff, rmse_temp, l2_error_diff, l2_error_temp"
   ]
  },
  {
   "cell_type": "code",
   "execution_count": 17,
   "metadata": {},
   "outputs": [
    {
     "name": "stdout",
     "output_type": "stream",
     "text": [
      "Test Rmse of Diffusivity: 3.6582286224710704e-06\n",
      "Test Rmse of Temp: 0.2779398593098571\n",
      "L2 Error of Diffusivity: 0.14940012169301806\n",
      "L2 Error  of Temp: 0.016964766465332685\n"
     ]
    }
   ],
   "source": [
    "rmse_diff, rmse_temp, l2_error_diff, l2_error_temp = compute_metrics(model, test_loader,  mean = output_mean, std = output_std)\n",
    "print(f\"Test Rmse of Diffusivity: {rmse_diff}\")\n",
    "print(f\"Test Rmse of Temp: {rmse_temp}\")\n",
    "\n",
    "print(f\"L2 Error of Diffusivity: {l2_error_diff}\")\n",
    "print(f\"L2 Error  of Temp: {l2_error_temp}\")"
   ]
  },
  {
   "cell_type": "code",
   "execution_count": 18,
   "metadata": {},
   "outputs": [
    {
     "name": "stdout",
     "output_type": "stream",
     "text": [
      "Train Rmse of Diffusivity: 1.9849804977740466e-06\n",
      "Train Rmse of Temp: 0.07297967469491533\n",
      "L2 Error of Diffusivity: 0.08150393791156545\n",
      "L2 Error  of Temp: 0.005240886990988324\n"
     ]
    }
   ],
   "source": [
    "rmse_diff, rmse_temp, l2_error_diff, l2_error_temp = compute_metrics(model, train_loader,  mean = output_mean, std = output_std)\n",
    "print(f\"Train Rmse of Diffusivity: {rmse_diff}\")\n",
    "print(f\"Train Rmse of Temp: {rmse_temp}\")\n",
    "\n",
    "print(f\"L2 Error of Diffusivity: {l2_error_diff}\")\n",
    "print(f\"L2 Error  of Temp: {l2_error_temp}\")"
   ]
  },
  {
   "cell_type": "markdown",
   "metadata": {},
   "source": [
    "# Saving Model"
   ]
  },
  {
   "cell_type": "code",
   "execution_count": 19,
   "metadata": {},
   "outputs": [],
   "source": [
    "PATH = f\"./saved_models/heat_diffusion_model_time.pth\"\n",
    "torch.save(model.state_dict(), PATH)"
   ]
  },
  {
   "cell_type": "code",
   "execution_count": 20,
   "metadata": {},
   "outputs": [
    {
     "data": {
      "text/plain": [
       "array([2.19478373e-05, 1.26061799e+01])"
      ]
     },
     "execution_count": 20,
     "metadata": {},
     "output_type": "execute_result"
    }
   ],
   "source": [
    "output_mean"
   ]
  },
  {
   "cell_type": "code",
   "execution_count": null,
   "metadata": {},
   "outputs": [],
   "source": []
  }
 ],
 "metadata": {
  "kernelspec": {
   "display_name": "Python 3 (ipykernel)",
   "language": "python",
   "name": "python3"
  },
  "language_info": {
   "codemirror_mode": {
    "name": "ipython",
    "version": 3
   },
   "file_extension": ".py",
   "mimetype": "text/x-python",
   "name": "python",
   "nbconvert_exporter": "python",
   "pygments_lexer": "ipython3",
   "version": "3.9.12"
  }
 },
 "nbformat": 4,
 "nbformat_minor": 4
}
