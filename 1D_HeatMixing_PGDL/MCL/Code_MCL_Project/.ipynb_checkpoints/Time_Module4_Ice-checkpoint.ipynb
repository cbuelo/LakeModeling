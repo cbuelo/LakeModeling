{
 "cells": [
  {
   "cell_type": "code",
   "execution_count": 1,
   "metadata": {},
   "outputs": [
    {
     "name": "stderr",
     "output_type": "stream",
     "text": [
      "C:\\Users\\ladwi\\anaconda3\\envs\\deeplearning\\lib\\site-packages\\tqdm\\auto.py:22: TqdmWarning: IProgress not found. Please update jupyter and ipywidgets. See https://ipywidgets.readthedocs.io/en/stable/user_install.html\n",
      "  from .autonotebook import tqdm as notebook_tqdm\n"
     ]
    }
   ],
   "source": [
    "import numpy as np\n",
    "import pandas as pd\n",
    "import random\n",
    "\n",
    "import torch\n",
    "import torch.nn as nn\n",
    "import torch.nn.functional as F\n",
    "\n",
    "import seaborn as sns\n",
    "import matplotlib.pyplot as plt\n",
    "import os\n",
    "\n",
    "from sklearn.model_selection import train_test_split\n",
    "from sklearn.preprocessing import StandardScaler\n",
    "from collections import OrderedDict\n",
    "from tqdm import tqdm\n",
    "\n",
    "import warnings\n",
    "warnings.filterwarnings(\"ignore\")"
   ]
  },
  {
   "cell_type": "code",
   "execution_count": 2,
   "metadata": {},
   "outputs": [
    {
     "name": "stdout",
     "output_type": "stream",
     "text": [
      "cuda:2\n"
     ]
    }
   ],
   "source": [
    "# CUDA support \n",
    "if torch.cuda.is_available():\n",
    "    device = torch.device('cuda:2')\n",
    "else:\n",
    "    device = torch.device('cpu')\n",
    "    \n",
    "print(device)\n",
    "device = torch.device('cpu')"
   ]
  },
  {
   "cell_type": "code",
   "execution_count": 3,
   "metadata": {},
   "outputs": [],
   "source": [
    "# the deep neural network\n",
    "class MLP(torch.nn.Module):\n",
    "    def __init__(self, layers, activation=\"relu\", init=\"xavier\"):\n",
    "        super(MLP, self).__init__()\n",
    "        \n",
    "        # parameters\n",
    "        self.depth = len(layers) - 1\n",
    "        \n",
    "        if activation == \"relu\":\n",
    "            self.activation = torch.nn.ReLU()\n",
    "        elif activation == \"tanh\":\n",
    "            self.activation = torch.nn.Tanh()\n",
    "        elif activation == \"gelu\":\n",
    "            self.activation = torch.nn.GELU()\n",
    "        else:\n",
    "            raise ValueError(\"Unspecified activation type\")\n",
    "        \n",
    "        \n",
    "        layer_list = list()\n",
    "        for i in range(self.depth - 1): \n",
    "            layer_list.append(\n",
    "                ('layer_%d' % i, torch.nn.Linear(layers[i], layers[i+1]))\n",
    "            )\n",
    "            layer_list.append(('activation_%d' % i, self.activation))\n",
    "            \n",
    "        layer_list.append(\n",
    "            ('layer_%d' % (self.depth - 1), torch.nn.Linear(layers[-2], layers[-1]))\n",
    "        )\n",
    "        layerDict = OrderedDict(layer_list)\n",
    "        \n",
    "        # deploy layers\n",
    "        self.layers = torch.nn.Sequential(layerDict)\n",
    "\n",
    "        if init==\"xavier\":\n",
    "            self.xavier_init_weights()\n",
    "        elif init==\"kaiming\":\n",
    "            self.kaiming_init_weights()\n",
    "    \n",
    "    def xavier_init_weights(self):\n",
    "        with torch.no_grad():\n",
    "            print(\"Initializing Network with Xavier Initialization..\")\n",
    "            for m in self.layers.modules():\n",
    "                if hasattr(m, 'weight'):\n",
    "                    nn.init.xavier_uniform_(m.weight)\n",
    "                    m.bias.data.fill_(0.0)\n",
    "\n",
    "    def kaiming_init_weights(self):\n",
    "        with torch.no_grad():\n",
    "            print(\"Initializing Network with Kaiming Initialization..\")\n",
    "            for m in self.layers.modules():\n",
    "                if hasattr(m, 'weight'):\n",
    "                    nn.init.kaiming_uniform_(m.weight)\n",
    "                    m.bias.data.fill_(0.0)\n",
    "                        \n",
    "    def forward(self, x):\n",
    "        out = self.layers(x)\n",
    "        return out\n",
    "    \n",
    "class DataGenerator(torch.utils.data.Dataset):\n",
    "    def __init__(self, X, Y):\n",
    "        self.X = X\n",
    "        self.Y = Y\n",
    "        \n",
    "    def __getitem__(self, index):\n",
    "        return self.X[index], self.Y[index]\n",
    "    \n",
    "    def __len__(self):\n",
    "        return len(self.X)"
   ]
  },
  {
   "cell_type": "code",
   "execution_count": 4,
   "metadata": {},
   "outputs": [
    {
     "data": {
      "text/html": [
       "<div>\n",
       "<style scoped>\n",
       "    .dataframe tbody tr th:only-of-type {\n",
       "        vertical-align: middle;\n",
       "    }\n",
       "\n",
       "    .dataframe tbody tr th {\n",
       "        vertical-align: top;\n",
       "    }\n",
       "\n",
       "    .dataframe thead th {\n",
       "        text-align: right;\n",
       "    }\n",
       "</style>\n",
       "<table border=\"1\" class=\"dataframe\">\n",
       "  <thead>\n",
       "    <tr style=\"text-align: right;\">\n",
       "      <th></th>\n",
       "      <th>depth</th>\n",
       "      <th>AirTemp_degC</th>\n",
       "      <th>Longwave_Wm-2</th>\n",
       "      <th>Latent_Wm-2</th>\n",
       "      <th>Sensible_Wm-2</th>\n",
       "      <th>Shortwave_Wm-2</th>\n",
       "      <th>lightExtinct_m-1</th>\n",
       "      <th>ShearVelocity_mS-1</th>\n",
       "      <th>ShearStress_Nm-2</th>\n",
       "      <th>Area_m2</th>\n",
       "      <th>input_temp</th>\n",
       "      <th>temp_total04</th>\n",
       "      <th>buoyancy</th>\n",
       "      <th>diffusivity</th>\n",
       "      <th>temp_diff01</th>\n",
       "      <th>day_of_year</th>\n",
       "      <th>time_of_day</th>\n",
       "      <th>temp_mix02</th>\n",
       "      <th>temp_conv03</th>\n",
       "      <th>obs_temp</th>\n",
       "    </tr>\n",
       "  </thead>\n",
       "  <tbody>\n",
       "    <tr>\n",
       "      <th>0</th>\n",
       "      <td>1</td>\n",
       "      <td>20.067094</td>\n",
       "      <td>700.346566</td>\n",
       "      <td>-100.232536</td>\n",
       "      <td>22.533627</td>\n",
       "      <td>695.446647</td>\n",
       "      <td>0.248168</td>\n",
       "      <td>1.054814</td>\n",
       "      <td>0.002187</td>\n",
       "      <td>36000000.0</td>\n",
       "      <td>13.110569</td>\n",
       "      <td>13.501710</td>\n",
       "      <td>0.000533</td>\n",
       "      <td>0.000010</td>\n",
       "      <td>13.501710</td>\n",
       "      <td>155</td>\n",
       "      <td>15</td>\n",
       "      <td>13.501710</td>\n",
       "      <td>13.501710</td>\n",
       "      <td>16.409</td>\n",
       "    </tr>\n",
       "    <tr>\n",
       "      <th>1</th>\n",
       "      <td>2</td>\n",
       "      <td>20.067094</td>\n",
       "      <td>700.346566</td>\n",
       "      <td>-100.232536</td>\n",
       "      <td>22.533627</td>\n",
       "      <td>695.446647</td>\n",
       "      <td>0.248168</td>\n",
       "      <td>1.054814</td>\n",
       "      <td>0.002187</td>\n",
       "      <td>36000000.0</td>\n",
       "      <td>11.806688</td>\n",
       "      <td>11.907665</td>\n",
       "      <td>0.000533</td>\n",
       "      <td>0.000016</td>\n",
       "      <td>11.907665</td>\n",
       "      <td>155</td>\n",
       "      <td>15</td>\n",
       "      <td>11.907665</td>\n",
       "      <td>11.907665</td>\n",
       "      <td>16.480</td>\n",
       "    </tr>\n",
       "    <tr>\n",
       "      <th>2</th>\n",
       "      <td>3</td>\n",
       "      <td>20.067094</td>\n",
       "      <td>700.346566</td>\n",
       "      <td>-100.232536</td>\n",
       "      <td>22.533627</td>\n",
       "      <td>695.446647</td>\n",
       "      <td>0.248168</td>\n",
       "      <td>1.054814</td>\n",
       "      <td>0.002187</td>\n",
       "      <td>36000000.0</td>\n",
       "      <td>11.306141</td>\n",
       "      <td>11.368285</td>\n",
       "      <td>0.000262</td>\n",
       "      <td>0.000021</td>\n",
       "      <td>11.368285</td>\n",
       "      <td>155</td>\n",
       "      <td>15</td>\n",
       "      <td>11.368285</td>\n",
       "      <td>11.368285</td>\n",
       "      <td>16.130</td>\n",
       "    </tr>\n",
       "    <tr>\n",
       "      <th>3</th>\n",
       "      <td>4</td>\n",
       "      <td>20.067094</td>\n",
       "      <td>700.346566</td>\n",
       "      <td>-100.232536</td>\n",
       "      <td>22.533627</td>\n",
       "      <td>695.446647</td>\n",
       "      <td>0.248168</td>\n",
       "      <td>1.054814</td>\n",
       "      <td>0.002187</td>\n",
       "      <td>36000000.0</td>\n",
       "      <td>11.048210</td>\n",
       "      <td>11.092567</td>\n",
       "      <td>0.000150</td>\n",
       "      <td>0.000027</td>\n",
       "      <td>11.092567</td>\n",
       "      <td>155</td>\n",
       "      <td>15</td>\n",
       "      <td>11.092567</td>\n",
       "      <td>11.092567</td>\n",
       "      <td>15.827</td>\n",
       "    </tr>\n",
       "    <tr>\n",
       "      <th>4</th>\n",
       "      <td>5</td>\n",
       "      <td>20.067094</td>\n",
       "      <td>700.346566</td>\n",
       "      <td>-100.232536</td>\n",
       "      <td>22.533627</td>\n",
       "      <td>695.446647</td>\n",
       "      <td>0.248168</td>\n",
       "      <td>1.054814</td>\n",
       "      <td>0.002187</td>\n",
       "      <td>36000000.0</td>\n",
       "      <td>10.896431</td>\n",
       "      <td>10.928626</td>\n",
       "      <td>0.000100</td>\n",
       "      <td>0.000032</td>\n",
       "      <td>10.928626</td>\n",
       "      <td>155</td>\n",
       "      <td>15</td>\n",
       "      <td>10.928626</td>\n",
       "      <td>10.928626</td>\n",
       "      <td>16.270</td>\n",
       "    </tr>\n",
       "    <tr>\n",
       "      <th>...</th>\n",
       "      <td>...</td>\n",
       "      <td>...</td>\n",
       "      <td>...</td>\n",
       "      <td>...</td>\n",
       "      <td>...</td>\n",
       "      <td>...</td>\n",
       "      <td>...</td>\n",
       "      <td>...</td>\n",
       "      <td>...</td>\n",
       "      <td>...</td>\n",
       "      <td>...</td>\n",
       "      <td>...</td>\n",
       "      <td>...</td>\n",
       "      <td>...</td>\n",
       "      <td>...</td>\n",
       "      <td>...</td>\n",
       "      <td>...</td>\n",
       "      <td>...</td>\n",
       "      <td>...</td>\n",
       "      <td>...</td>\n",
       "    </tr>\n",
       "    <tr>\n",
       "      <th>53170</th>\n",
       "      <td>21</td>\n",
       "      <td>8.158799</td>\n",
       "      <td>715.639026</td>\n",
       "      <td>-243.644276</td>\n",
       "      <td>-72.050019</td>\n",
       "      <td>0.000000</td>\n",
       "      <td>1.416667</td>\n",
       "      <td>1.672067</td>\n",
       "      <td>0.004574</td>\n",
       "      <td>36000000.0</td>\n",
       "      <td>8.682822</td>\n",
       "      <td>8.683785</td>\n",
       "      <td>0.000757</td>\n",
       "      <td>0.000013</td>\n",
       "      <td>8.683785</td>\n",
       "      <td>244</td>\n",
       "      <td>5</td>\n",
       "      <td>8.683785</td>\n",
       "      <td>8.683785</td>\n",
       "      <td>12.294</td>\n",
       "    </tr>\n",
       "    <tr>\n",
       "      <th>53171</th>\n",
       "      <td>22</td>\n",
       "      <td>8.158799</td>\n",
       "      <td>715.639026</td>\n",
       "      <td>-243.644276</td>\n",
       "      <td>-72.050019</td>\n",
       "      <td>0.000000</td>\n",
       "      <td>1.416667</td>\n",
       "      <td>1.672067</td>\n",
       "      <td>0.004574</td>\n",
       "      <td>36000000.0</td>\n",
       "      <td>7.425032</td>\n",
       "      <td>7.425783</td>\n",
       "      <td>0.000528</td>\n",
       "      <td>0.000016</td>\n",
       "      <td>7.425783</td>\n",
       "      <td>244</td>\n",
       "      <td>5</td>\n",
       "      <td>7.425783</td>\n",
       "      <td>7.425783</td>\n",
       "      <td>12.294</td>\n",
       "    </tr>\n",
       "    <tr>\n",
       "      <th>53172</th>\n",
       "      <td>23</td>\n",
       "      <td>8.158799</td>\n",
       "      <td>715.639026</td>\n",
       "      <td>-243.644276</td>\n",
       "      <td>-72.050019</td>\n",
       "      <td>0.000000</td>\n",
       "      <td>1.416667</td>\n",
       "      <td>1.672067</td>\n",
       "      <td>0.004574</td>\n",
       "      <td>36000000.0</td>\n",
       "      <td>6.179781</td>\n",
       "      <td>6.180297</td>\n",
       "      <td>0.000300</td>\n",
       "      <td>0.000020</td>\n",
       "      <td>6.180297</td>\n",
       "      <td>244</td>\n",
       "      <td>5</td>\n",
       "      <td>6.180297</td>\n",
       "      <td>6.180297</td>\n",
       "      <td>12.294</td>\n",
       "    </tr>\n",
       "    <tr>\n",
       "      <th>53173</th>\n",
       "      <td>24</td>\n",
       "      <td>8.158799</td>\n",
       "      <td>715.639026</td>\n",
       "      <td>-243.644276</td>\n",
       "      <td>-72.050019</td>\n",
       "      <td>0.000000</td>\n",
       "      <td>1.416667</td>\n",
       "      <td>1.672067</td>\n",
       "      <td>0.004574</td>\n",
       "      <td>36000000.0</td>\n",
       "      <td>4.940607</td>\n",
       "      <td>4.940868</td>\n",
       "      <td>0.000065</td>\n",
       "      <td>0.000037</td>\n",
       "      <td>4.940868</td>\n",
       "      <td>244</td>\n",
       "      <td>5</td>\n",
       "      <td>4.940868</td>\n",
       "      <td>4.940868</td>\n",
       "      <td>12.294</td>\n",
       "    </tr>\n",
       "    <tr>\n",
       "      <th>53174</th>\n",
       "      <td>25</td>\n",
       "      <td>8.158799</td>\n",
       "      <td>715.639026</td>\n",
       "      <td>-243.644276</td>\n",
       "      <td>-72.050019</td>\n",
       "      <td>0.000000</td>\n",
       "      <td>1.416667</td>\n",
       "      <td>1.672067</td>\n",
       "      <td>0.004574</td>\n",
       "      <td>36000000.0</td>\n",
       "      <td>3.702740</td>\n",
       "      <td>3.702740</td>\n",
       "      <td>0.000065</td>\n",
       "      <td>0.000037</td>\n",
       "      <td>3.702740</td>\n",
       "      <td>244</td>\n",
       "      <td>5</td>\n",
       "      <td>3.702740</td>\n",
       "      <td>3.702740</td>\n",
       "      <td>12.294</td>\n",
       "    </tr>\n",
       "  </tbody>\n",
       "</table>\n",
       "<p>53175 rows × 20 columns</p>\n",
       "</div>"
      ],
      "text/plain": [
       "       depth  AirTemp_degC  Longwave_Wm-2  Latent_Wm-2  Sensible_Wm-2  \\\n",
       "0          1     20.067094     700.346566  -100.232536      22.533627   \n",
       "1          2     20.067094     700.346566  -100.232536      22.533627   \n",
       "2          3     20.067094     700.346566  -100.232536      22.533627   \n",
       "3          4     20.067094     700.346566  -100.232536      22.533627   \n",
       "4          5     20.067094     700.346566  -100.232536      22.533627   \n",
       "...      ...           ...            ...          ...            ...   \n",
       "53170     21      8.158799     715.639026  -243.644276     -72.050019   \n",
       "53171     22      8.158799     715.639026  -243.644276     -72.050019   \n",
       "53172     23      8.158799     715.639026  -243.644276     -72.050019   \n",
       "53173     24      8.158799     715.639026  -243.644276     -72.050019   \n",
       "53174     25      8.158799     715.639026  -243.644276     -72.050019   \n",
       "\n",
       "       Shortwave_Wm-2  lightExtinct_m-1  ShearVelocity_mS-1  ShearStress_Nm-2  \\\n",
       "0          695.446647          0.248168            1.054814          0.002187   \n",
       "1          695.446647          0.248168            1.054814          0.002187   \n",
       "2          695.446647          0.248168            1.054814          0.002187   \n",
       "3          695.446647          0.248168            1.054814          0.002187   \n",
       "4          695.446647          0.248168            1.054814          0.002187   \n",
       "...               ...               ...                 ...               ...   \n",
       "53170        0.000000          1.416667            1.672067          0.004574   \n",
       "53171        0.000000          1.416667            1.672067          0.004574   \n",
       "53172        0.000000          1.416667            1.672067          0.004574   \n",
       "53173        0.000000          1.416667            1.672067          0.004574   \n",
       "53174        0.000000          1.416667            1.672067          0.004574   \n",
       "\n",
       "          Area_m2  input_temp  temp_total04  buoyancy  diffusivity  \\\n",
       "0      36000000.0   13.110569     13.501710  0.000533     0.000010   \n",
       "1      36000000.0   11.806688     11.907665  0.000533     0.000016   \n",
       "2      36000000.0   11.306141     11.368285  0.000262     0.000021   \n",
       "3      36000000.0   11.048210     11.092567  0.000150     0.000027   \n",
       "4      36000000.0   10.896431     10.928626  0.000100     0.000032   \n",
       "...           ...         ...           ...       ...          ...   \n",
       "53170  36000000.0    8.682822      8.683785  0.000757     0.000013   \n",
       "53171  36000000.0    7.425032      7.425783  0.000528     0.000016   \n",
       "53172  36000000.0    6.179781      6.180297  0.000300     0.000020   \n",
       "53173  36000000.0    4.940607      4.940868  0.000065     0.000037   \n",
       "53174  36000000.0    3.702740      3.702740  0.000065     0.000037   \n",
       "\n",
       "       temp_diff01  day_of_year  time_of_day  temp_mix02  temp_conv03  \\\n",
       "0        13.501710          155           15   13.501710    13.501710   \n",
       "1        11.907665          155           15   11.907665    11.907665   \n",
       "2        11.368285          155           15   11.368285    11.368285   \n",
       "3        11.092567          155           15   11.092567    11.092567   \n",
       "4        10.928626          155           15   10.928626    10.928626   \n",
       "...            ...          ...          ...         ...          ...   \n",
       "53170     8.683785          244            5    8.683785     8.683785   \n",
       "53171     7.425783          244            5    7.425783     7.425783   \n",
       "53172     6.180297          244            5    6.180297     6.180297   \n",
       "53173     4.940868          244            5    4.940868     4.940868   \n",
       "53174     3.702740          244            5    3.702740     3.702740   \n",
       "\n",
       "       obs_temp  \n",
       "0        16.409  \n",
       "1        16.480  \n",
       "2        16.130  \n",
       "3        15.827  \n",
       "4        16.270  \n",
       "...         ...  \n",
       "53170    12.294  \n",
       "53171    12.294  \n",
       "53172    12.294  \n",
       "53173    12.294  \n",
       "53174    12.294  \n",
       "\n",
       "[53175 rows x 20 columns]"
      ]
     },
     "execution_count": 4,
     "metadata": {},
     "output_type": "execute_result"
    }
   ],
   "source": [
    "data_df = pd.read_csv(\"all_data_lake_modeling_in_time.csv\")\n",
    "data_df = data_df.drop(columns=['time'])\n",
    "data_df"
   ]
  },
  {
   "cell_type": "code",
   "execution_count": 5,
   "metadata": {},
   "outputs": [
    {
     "name": "stdout",
     "output_type": "stream",
     "text": [
      "Number of days total: 2127\n",
      "Number of training points: 31900\n"
     ]
    }
   ],
   "source": [
    "training_frac = 0.60\n",
    "depth_steps = 25\n",
    "number_days = len(data_df)//depth_steps\n",
    "n_obs = int(number_days*training_frac)*depth_steps\n",
    "print(f\"Number of days total: {number_days}\")\n",
    "print(f\"Number of training points: {n_obs}\")"
   ]
  },
  {
   "cell_type": "markdown",
   "metadata": {},
   "source": [
    "# Normalizing Data"
   ]
  },
  {
   "cell_type": "code",
   "execution_count": 6,
   "metadata": {},
   "outputs": [],
   "source": [
    "data = data_df.values\n",
    "\n",
    "train_data = data[:n_obs]\n",
    "test_data = data[n_obs:]\n",
    "\n",
    "#performing normalization on all the columns\n",
    "scaler = StandardScaler()\n",
    "scaler.fit(train_data)\n",
    "train_data = scaler.transform(train_data)\n",
    "test_data = scaler.transform(test_data)"
   ]
  },
  {
   "cell_type": "markdown",
   "metadata": {},
   "source": [
    "# Training Heat Diffusion Model"
   ]
  },
  {
   "cell_type": "code",
   "execution_count": 7,
   "metadata": {},
   "outputs": [],
   "source": [
    "input_columns = ['depth', 'day_of_year', 'time_of_day', 'temp_conv03']\n",
    "output_columns = ['temp_total04']\n",
    "\n",
    "input_column_ix = [data_df.columns.get_loc(column) for column in input_columns]\n",
    "output_column_ix = [data_df.columns.get_loc(column) for column in output_columns]\n",
    "\n",
    "X_train, X_test = train_data[:,input_column_ix], test_data[:,input_column_ix]\n",
    "y_train, y_test = train_data[:,output_column_ix], test_data[:,output_column_ix]"
   ]
  },
  {
   "cell_type": "code",
   "execution_count": 8,
   "metadata": {},
   "outputs": [
    {
     "name": "stdout",
     "output_type": "stream",
     "text": [
      "X_train: (31900, 4), X_test: (21275, 4)\n",
      "y_train: (31900, 1), y_test: (21275, 1)\n"
     ]
    }
   ],
   "source": [
    "print(f\"X_train: {X_train.shape}, X_test: {X_test.shape}\")\n",
    "print(f\"y_train: {y_train.shape}, y_test: {y_test.shape}\")"
   ]
  },
  {
   "cell_type": "code",
   "execution_count": 9,
   "metadata": {},
   "outputs": [],
   "source": [
    "#keeping track of the mean and standard deviations\n",
    "train_mean = scaler.mean_\n",
    "train_std = scaler.scale_\n",
    "\n",
    "input_mean, input_std = train_mean[input_column_ix], train_std[input_column_ix]\n",
    "output_mean, output_std = train_mean[output_column_ix], train_std[output_column_ix]"
   ]
  },
  {
   "cell_type": "code",
   "execution_count": 10,
   "metadata": {},
   "outputs": [],
   "source": [
    "# Create data set\n",
    "batch_size = 1024\n",
    "train_dataset = DataGenerator(X_train, y_train)\n",
    "test_dataset = DataGenerator(X_test, y_test)\n",
    "# train_dataset = torch.utils.data.TensorDataset(X_train, y_train)\n",
    "# test_dataset = torch.utils.data.TensorDataset(X_test, y_test)\n",
    "\n",
    "train_loader = torch.utils.data.DataLoader(train_dataset, batch_size=batch_size, \n",
    "                                           shuffle=True)\n",
    "test_loader = torch.utils.data.DataLoader(test_dataset, batch_size=batch_size,\n",
    "                                          shuffle=False)"
   ]
  },
  {
   "cell_type": "code",
   "execution_count": 11,
   "metadata": {},
   "outputs": [
    {
     "name": "stdout",
     "output_type": "stream",
     "text": [
      "Initializing Network with Xavier Initialization..\n"
     ]
    }
   ],
   "source": [
    "layers = [X_train.shape[-1], 32, 32, y_train.shape[-1]]\n",
    "\n",
    "model = MLP(layers, activation=\"gelu\").to(device)"
   ]
  },
  {
   "cell_type": "code",
   "execution_count": 12,
   "metadata": {},
   "outputs": [],
   "source": [
    "lr = 1e-3\n",
    "decay_rate = 0.1\n",
    "decay_steps = 500\n",
    "    \n",
    "optimizer = torch.optim.Adam(model.parameters(), lr=lr, \n",
    "                         betas=(0.9, 0.999), eps=1e-08, weight_decay=0, amsgrad=False)\n",
    "lr_scheduler = torch.optim.lr_scheduler.StepLR(optimizer, step_size=decay_steps, gamma=decay_rate)\n",
    "\n",
    "criterion = torch.nn.MSELoss()"
   ]
  },
  {
   "cell_type": "code",
   "execution_count": 13,
   "metadata": {},
   "outputs": [
    {
     "name": "stdout",
     "output_type": "stream",
     "text": [
      "MLP(\n",
      "  (activation): GELU()\n",
      "  (layers): Sequential(\n",
      "    (layer_0): Linear(in_features=4, out_features=32, bias=True)\n",
      "    (activation_0): GELU()\n",
      "    (layer_1): Linear(in_features=32, out_features=32, bias=True)\n",
      "    (activation_1): GELU()\n",
      "    (layer_2): Linear(in_features=32, out_features=1, bias=True)\n",
      "  )\n",
      ")\n"
     ]
    }
   ],
   "source": [
    "print(model)"
   ]
  },
  {
   "cell_type": "code",
   "execution_count": null,
   "metadata": {},
   "outputs": [
    {
     "name": "stderr",
     "output_type": "stream",
     "text": [
      "  0%|                                                                                 | 1/1000 [00:00<07:39,  2.18it/s]"
     ]
    },
    {
     "name": "stdout",
     "output_type": "stream",
     "text": [
      "Epoch : 0, Train_loss: 0.884682085365057, Test_loss: 0.32679921104794457\n"
     ]
    },
    {
     "name": "stderr",
     "output_type": "stream",
     "text": [
      "  5%|████                                                                            | 51/1000 [00:13<04:40,  3.38it/s]"
     ]
    },
    {
     "name": "stdout",
     "output_type": "stream",
     "text": [
      "Epoch : 50, Train_loss: 9.304044874625106e-05, Test_loss: 0.0021254642294176542\n"
     ]
    },
    {
     "name": "stderr",
     "output_type": "stream",
     "text": [
      " 10%|███████▉                                                                       | 101/1000 [00:25<04:17,  3.49it/s]"
     ]
    },
    {
     "name": "stdout",
     "output_type": "stream",
     "text": [
      "Epoch : 100, Train_loss: 2.296086159958577e-05, Test_loss: 0.0007546405331162358\n"
     ]
    },
    {
     "name": "stderr",
     "output_type": "stream",
     "text": [
      " 15%|███████████▉                                                                   | 151/1000 [00:38<04:02,  3.50it/s]"
     ]
    },
    {
     "name": "stdout",
     "output_type": "stream",
     "text": [
      "Epoch : 150, Train_loss: 4.196493740948881e-06, Test_loss: 0.00046497091120943965\n"
     ]
    },
    {
     "name": "stderr",
     "output_type": "stream",
     "text": [
      " 20%|███████████████▉                                                               | 201/1000 [00:51<03:39,  3.65it/s]"
     ]
    },
    {
     "name": "stdout",
     "output_type": "stream",
     "text": [
      "Epoch : 200, Train_loss: 1.5570918563412306e-06, Test_loss: 0.00050125504066316\n"
     ]
    },
    {
     "name": "stderr",
     "output_type": "stream",
     "text": [
      " 25%|███████████████████▊                                                           | 251/1000 [01:03<03:31,  3.54it/s]"
     ]
    },
    {
     "name": "stdout",
     "output_type": "stream",
     "text": [
      "Epoch : 250, Train_loss: 1.0785599773299737e-06, Test_loss: 0.0003330620737047173\n"
     ]
    },
    {
     "name": "stderr",
     "output_type": "stream",
     "text": [
      " 30%|███████████████████████▊                                                       | 301/1000 [01:16<03:29,  3.33it/s]"
     ]
    },
    {
     "name": "stdout",
     "output_type": "stream",
     "text": [
      "Epoch : 300, Train_loss: 2.053796997358859e-06, Test_loss: 0.00022178976056845082\n"
     ]
    },
    {
     "name": "stderr",
     "output_type": "stream",
     "text": [
      " 35%|███████████████████████████▋                                                   | 351/1000 [01:28<03:08,  3.44it/s]"
     ]
    },
    {
     "name": "stdout",
     "output_type": "stream",
     "text": [
      "Epoch : 350, Train_loss: 8.772643580456929e-07, Test_loss: 0.00011960087898560665\n"
     ]
    },
    {
     "name": "stderr",
     "output_type": "stream",
     "text": [
      " 40%|███████████████████████████████▋                                               | 401/1000 [01:40<02:49,  3.53it/s]"
     ]
    },
    {
     "name": "stdout",
     "output_type": "stream",
     "text": [
      "Epoch : 400, Train_loss: 8.199927554741748e-07, Test_loss: 7.952904336218039e-05\n"
     ]
    },
    {
     "name": "stderr",
     "output_type": "stream",
     "text": [
      " 42%|█████████████████████████████████                                              | 418/1000 [01:44<02:26,  3.96it/s]"
     ]
    }
   ],
   "source": [
    "n_epochs = 1000\n",
    "\n",
    "train_loss = []\n",
    "test_loss = []\n",
    "for it in tqdm(range(n_epochs)):\n",
    "    loss_epoch = 0\n",
    "    model.train()\n",
    "    for x, y in iter(train_loader):\n",
    "        x, y = x.to(device).float(), y.to(device).float()\n",
    "        optimizer.zero_grad()\n",
    "        pred = model(x)\n",
    "        loss = criterion(pred, y)\n",
    "        loss.backward()\n",
    "        optimizer.step()\n",
    "        loss_epoch += loss.detach().item()\n",
    "    lr_scheduler.step()\n",
    "    \n",
    "    if it % 50 == 0:\n",
    "        train_loss.append(loss_epoch/len(train_loader))\n",
    "        model.eval()\n",
    "        test_loss_epoch = 0\n",
    "        for x, y in iter(test_loader):\n",
    "            x, y = x.to(device).float(), y.to(device).float()\n",
    "            pred = model(x)\n",
    "            loss = criterion(pred, y)\n",
    "            test_loss_epoch += loss.detach().item()\n",
    "        test_loss.append(test_loss_epoch/len(test_loader))\n",
    "        print(f\"Epoch : {it}, Train_loss: {train_loss[-1]}, Test_loss: {test_loss[-1]}\")\n",
    "    "
   ]
  },
  {
   "cell_type": "code",
   "execution_count": 15,
   "metadata": {},
   "outputs": [
    {
     "data": {
      "image/png": "[encoded data removed]",
      "text/plain": [
       "<Figure size 576x432 with 1 Axes>"
      ]
     },
     "metadata": {
      "needs_background": "light"
     },
     "output_type": "display_data"
    }
   ],
   "source": [
    "plt.figure(figsize=(8,6))\n",
    "plt.plot(train_loss, label=\"Train\", linewidth=2.5)\n",
    "plt.plot(test_loss, label=\"Test\", linewidth=2.5)\n",
    "plt.grid(\"on\", alpha=0.2)\n",
    "plt.legend(fontsize=18)\n",
    "plt.yscale(\"log\")\n",
    "plt.xlabel(\"Epochs\", fontsize=18)\n",
    "plt.ylabel(\"Loss\", fontsize=18)\n",
    "plt.show()"
   ]
  },
  {
   "cell_type": "markdown",
   "metadata": {},
   "source": [
    "# Evaluating Results"
   ]
  },
  {
   "cell_type": "code",
   "execution_count": 16,
   "metadata": {},
   "outputs": [],
   "source": [
    "def rmse(true, pred):\n",
    "    return (((true-pred)**2).mean()**0.5).detach().cpu().numpy()\n",
    "\n",
    "def l2_error(true, pred):\n",
    "    return np.linalg.norm(pred.detach().cpu().numpy() - true.detach().cpu().numpy()) / np.linalg.norm(true.detach().cpu().numpy()) \n",
    "\n",
    "def compute_metrics(model, loader, mean=0.0, std=1.0):\n",
    "    model.eval()\n",
    "    y_ = []\n",
    "    pred_ = []\n",
    "    mean = torch.tensor(mean).to(device)\n",
    "    std = torch.tensor(std).to(device)\n",
    "    for x, y in iter(loader):\n",
    "        x, y = x.to(device).float(), y.to(device).float()\n",
    "        pred = model(x)\n",
    "        y = y * std + mean\n",
    "        pred = pred * std + mean\n",
    "        y_.append(y)\n",
    "        pred_.append(pred)\n",
    "    y_ = torch.cat(y_, dim=0) \n",
    "    pred_ = torch.cat(pred_, dim=0)\n",
    "    \n",
    "    rmse_temp = rmse(y_[:,0], pred_[:,0])\n",
    "    \n",
    "    l2_error_temp = l2_error(y_[:,0], pred_[:,0])\n",
    "    return rmse_temp, l2_error_temp"
   ]
  },
  {
   "cell_type": "code",
   "execution_count": 17,
   "metadata": {},
   "outputs": [
    {
     "name": "stdout",
     "output_type": "stream",
     "text": [
      "Test Rmse of Temp: 0.05960944225397827\n",
      "L2 Error  of Temp: 0.0036383155038024703\n"
     ]
    }
   ],
   "source": [
    "rmse_temp, l2_error_temp = compute_metrics(model, test_loader,  mean = output_mean, std = output_std)\n",
    "print(f\"Test Rmse of Temp: {rmse_temp}\")\n",
    "print(f\"L2 Error  of Temp: {l2_error_temp}\")"
   ]
  },
  {
   "cell_type": "code",
   "execution_count": 18,
   "metadata": {},
   "outputs": [
    {
     "name": "stdout",
     "output_type": "stream",
     "text": [
      "Train Rmse of Temp: 0.0015442350804451795\n",
      "L2 Error  of Temp: 0.00011089225777233648\n"
     ]
    }
   ],
   "source": [
    "rmse_temp, l2_error_temp = compute_metrics(model, train_loader,  mean = output_mean, std = output_std)\n",
    "print(f\"Train Rmse of Temp: {rmse_temp}\")\n",
    "print(f\"L2 Error  of Temp: {l2_error_temp}\")"
   ]
  },
  {
   "cell_type": "markdown",
   "metadata": {},
   "source": [
    "# Saving Model"
   ]
  },
  {
   "cell_type": "code",
   "execution_count": 19,
   "metadata": {},
   "outputs": [],
   "source": [
    "PATH = f\"./saved_models/ice_model_time.pth\"\n",
    "torch.save(model.state_dict(), PATH)"
   ]
  },
  {
   "cell_type": "code",
   "execution_count": 20,
   "metadata": {},
   "outputs": [
    {
     "data": {
      "text/plain": [
       "array([12.6070644])"
      ]
     },
     "execution_count": 20,
     "metadata": {},
     "output_type": "execute_result"
    }
   ],
   "source": [
    "output_mean"
   ]
  },
  {
   "cell_type": "code",
   "execution_count": null,
   "metadata": {},
   "outputs": [],
   "source": []
  }
 ],
 "metadata": {
  "kernelspec": {
   "display_name": "Python 3 (ipykernel)",
   "language": "python",
   "name": "python3"
  },
  "language_info": {
   "codemirror_mode": {
    "name": "ipython",
    "version": 3
   },
   "file_extension": ".py",
   "mimetype": "text/x-python",
   "name": "python",
   "nbconvert_exporter": "python",
   "pygments_lexer": "ipython3",
   "version": "3.9.12"
  }
 },
 "nbformat": 4,
 "nbformat_minor": 4
}
