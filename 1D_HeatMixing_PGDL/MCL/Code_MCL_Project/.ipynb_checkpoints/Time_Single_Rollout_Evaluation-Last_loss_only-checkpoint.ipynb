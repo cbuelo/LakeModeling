{
 "cells": [
  {
   "cell_type": "code",
   "execution_count": 1,
   "metadata": {},
   "outputs": [],
   "source": [
    "import numpy as np\n",
    "import pandas as pd\n",
    "import random\n",
    "\n",
    "import torch\n",
    "import torch.nn as nn\n",
    "import torch.nn.functional as F\n",
    "\n",
    "import seaborn as sns\n",
    "import matplotlib.pyplot as plt\n",
    "import os\n",
    "\n",
    "from sklearn.model_selection import train_test_split\n",
    "from sklearn.preprocessing import StandardScaler\n",
    "from collections import OrderedDict\n",
    "from tqdm import tqdm\n",
    "\n",
    "import warnings\n",
    "warnings.filterwarnings(\"ignore\")"
   ]
  },
  {
   "cell_type": "code",
   "execution_count": 2,
   "metadata": {},
   "outputs": [
    {
     "name": "stdout",
     "output_type": "stream",
     "text": [
      "cuda:5\n"
     ]
    }
   ],
   "source": [
    "# CUDA support \n",
    "if torch.cuda.is_available():\n",
    "    device = torch.device('cuda:5')\n",
    "else:\n",
    "    device = torch.device('cpu')\n",
    "    \n",
    "print(device)"
   ]
  },
  {
   "cell_type": "code",
   "execution_count": 3,
   "metadata": {},
   "outputs": [],
   "source": [
    "# the deep neural network\n",
    "class MLP(torch.nn.Module):\n",
    "    def __init__(self, layers, activation=\"relu\", init=\"xavier\"):\n",
    "        super(MLP, self).__init__()\n",
    "        \n",
    "        # parameters\n",
    "        self.depth = len(layers) - 1\n",
    "        \n",
    "        if activation == \"relu\":\n",
    "            self.activation = torch.nn.ReLU()\n",
    "        elif activation == \"tanh\":\n",
    "            self.activation = torch.nn.Tanh()\n",
    "        elif activation == \"gelu\":\n",
    "            self.activation = torch.nn.GELU()\n",
    "        else:\n",
    "            raise ValueError(\"Unspecified activation type\")\n",
    "        \n",
    "        \n",
    "        layer_list = list()\n",
    "        for i in range(self.depth - 1): \n",
    "            layer_list.append(\n",
    "                ('layer_%d' % i, torch.nn.Linear(layers[i], layers[i+1]))\n",
    "            )\n",
    "            layer_list.append(('activation_%d' % i, self.activation))\n",
    "            \n",
    "        layer_list.append(\n",
    "            ('layer_%d' % (self.depth - 1), torch.nn.Linear(layers[-2], layers[-1]))\n",
    "        )\n",
    "        layerDict = OrderedDict(layer_list)\n",
    "        \n",
    "        # deploy layers\n",
    "        self.layers = torch.nn.Sequential(layerDict)\n",
    "\n",
    "        if init==\"xavier\":\n",
    "            self.xavier_init_weights()\n",
    "        elif init==\"kaiming\":\n",
    "            self.kaiming_init_weights()\n",
    "    \n",
    "    def xavier_init_weights(self):\n",
    "        with torch.no_grad():\n",
    "            print(\"Initializing Network with Xavier Initialization..\")\n",
    "            for m in self.layers.modules():\n",
    "                if hasattr(m, 'weight'):\n",
    "                    nn.init.xavier_uniform_(m.weight)\n",
    "                    m.bias.data.fill_(0.0)\n",
    "\n",
    "    def kaiming_init_weights(self):\n",
    "        with torch.no_grad():\n",
    "            print(\"Initializing Network with Kaiming Initialization..\")\n",
    "            for m in self.layers.modules():\n",
    "                if hasattr(m, 'weight'):\n",
    "                    nn.init.kaiming_uniform_(m.weight)\n",
    "                    m.bias.data.fill_(0.0)\n",
    "                        \n",
    "    def forward(self, x):\n",
    "        out = self.layers(x)\n",
    "        return out\n",
    "    \n",
    "class DataGenerator(torch.utils.data.Dataset):\n",
    "    def __init__(self, X):\n",
    "        self.X = X\n",
    "        \n",
    "    def __getitem__(self, index):\n",
    "        return self.X[index]\n",
    "    \n",
    "    def __len__(self):\n",
    "        return len(self.X)"
   ]
  },
  {
   "cell_type": "code",
   "execution_count": 31,
   "metadata": {},
   "outputs": [
    {
     "data": {
      "text/html": [
       "<div>\n",
       "<style scoped>\n",
       "    .dataframe tbody tr th:only-of-type {\n",
       "        vertical-align: middle;\n",
       "    }\n",
       "\n",
       "    .dataframe tbody tr th {\n",
       "        vertical-align: top;\n",
       "    }\n",
       "\n",
       "    .dataframe thead th {\n",
       "        text-align: right;\n",
       "    }\n",
       "</style>\n",
       "<table border=\"1\" class=\"dataframe\">\n",
       "  <thead>\n",
       "    <tr style=\"text-align: right;\">\n",
       "      <th></th>\n",
       "      <th>depth</th>\n",
       "      <th>AirTemp_degC</th>\n",
       "      <th>Longwave_Wm-2</th>\n",
       "      <th>Latent_Wm-2</th>\n",
       "      <th>Sensible_Wm-2</th>\n",
       "      <th>Shortwave_Wm-2</th>\n",
       "      <th>lightExtinct_m-1</th>\n",
       "      <th>ShearVelocity_mS-1</th>\n",
       "      <th>ShearStress_Nm-2</th>\n",
       "      <th>Area_m2</th>\n",
       "      <th>input_temp</th>\n",
       "      <th>temp_total04</th>\n",
       "      <th>buoyancy</th>\n",
       "      <th>diffusivity</th>\n",
       "      <th>temp_diff01</th>\n",
       "      <th>day_of_year</th>\n",
       "      <th>time_of_day</th>\n",
       "      <th>temp_mix02</th>\n",
       "      <th>temp_conv03</th>\n",
       "      <th>obs_temp</th>\n",
       "    </tr>\n",
       "  </thead>\n",
       "  <tbody>\n",
       "    <tr>\n",
       "      <th>0</th>\n",
       "      <td>1</td>\n",
       "      <td>20.067094</td>\n",
       "      <td>700.346566</td>\n",
       "      <td>-100.232536</td>\n",
       "      <td>22.533627</td>\n",
       "      <td>695.446647</td>\n",
       "      <td>0.248168</td>\n",
       "      <td>1.054814</td>\n",
       "      <td>0.002187</td>\n",
       "      <td>36000000.0</td>\n",
       "      <td>13.110569</td>\n",
       "      <td>13.501710</td>\n",
       "      <td>0.000533</td>\n",
       "      <td>0.000010</td>\n",
       "      <td>13.501710</td>\n",
       "      <td>155</td>\n",
       "      <td>15</td>\n",
       "      <td>13.501710</td>\n",
       "      <td>13.501710</td>\n",
       "      <td>16.409</td>\n",
       "    </tr>\n",
       "    <tr>\n",
       "      <th>1</th>\n",
       "      <td>2</td>\n",
       "      <td>20.067094</td>\n",
       "      <td>700.346566</td>\n",
       "      <td>-100.232536</td>\n",
       "      <td>22.533627</td>\n",
       "      <td>695.446647</td>\n",
       "      <td>0.248168</td>\n",
       "      <td>1.054814</td>\n",
       "      <td>0.002187</td>\n",
       "      <td>36000000.0</td>\n",
       "      <td>11.806688</td>\n",
       "      <td>11.907665</td>\n",
       "      <td>0.000533</td>\n",
       "      <td>0.000016</td>\n",
       "      <td>11.907665</td>\n",
       "      <td>155</td>\n",
       "      <td>15</td>\n",
       "      <td>11.907665</td>\n",
       "      <td>11.907665</td>\n",
       "      <td>16.480</td>\n",
       "    </tr>\n",
       "    <tr>\n",
       "      <th>2</th>\n",
       "      <td>3</td>\n",
       "      <td>20.067094</td>\n",
       "      <td>700.346566</td>\n",
       "      <td>-100.232536</td>\n",
       "      <td>22.533627</td>\n",
       "      <td>695.446647</td>\n",
       "      <td>0.248168</td>\n",
       "      <td>1.054814</td>\n",
       "      <td>0.002187</td>\n",
       "      <td>36000000.0</td>\n",
       "      <td>11.306141</td>\n",
       "      <td>11.368285</td>\n",
       "      <td>0.000262</td>\n",
       "      <td>0.000021</td>\n",
       "      <td>11.368285</td>\n",
       "      <td>155</td>\n",
       "      <td>15</td>\n",
       "      <td>11.368285</td>\n",
       "      <td>11.368285</td>\n",
       "      <td>16.130</td>\n",
       "    </tr>\n",
       "    <tr>\n",
       "      <th>3</th>\n",
       "      <td>4</td>\n",
       "      <td>20.067094</td>\n",
       "      <td>700.346566</td>\n",
       "      <td>-100.232536</td>\n",
       "      <td>22.533627</td>\n",
       "      <td>695.446647</td>\n",
       "      <td>0.248168</td>\n",
       "      <td>1.054814</td>\n",
       "      <td>0.002187</td>\n",
       "      <td>36000000.0</td>\n",
       "      <td>11.048210</td>\n",
       "      <td>11.092567</td>\n",
       "      <td>0.000150</td>\n",
       "      <td>0.000027</td>\n",
       "      <td>11.092567</td>\n",
       "      <td>155</td>\n",
       "      <td>15</td>\n",
       "      <td>11.092567</td>\n",
       "      <td>11.092567</td>\n",
       "      <td>15.827</td>\n",
       "    </tr>\n",
       "    <tr>\n",
       "      <th>4</th>\n",
       "      <td>5</td>\n",
       "      <td>20.067094</td>\n",
       "      <td>700.346566</td>\n",
       "      <td>-100.232536</td>\n",
       "      <td>22.533627</td>\n",
       "      <td>695.446647</td>\n",
       "      <td>0.248168</td>\n",
       "      <td>1.054814</td>\n",
       "      <td>0.002187</td>\n",
       "      <td>36000000.0</td>\n",
       "      <td>10.896431</td>\n",
       "      <td>10.928626</td>\n",
       "      <td>0.000100</td>\n",
       "      <td>0.000032</td>\n",
       "      <td>10.928626</td>\n",
       "      <td>155</td>\n",
       "      <td>15</td>\n",
       "      <td>10.928626</td>\n",
       "      <td>10.928626</td>\n",
       "      <td>16.270</td>\n",
       "    </tr>\n",
       "    <tr>\n",
       "      <th>...</th>\n",
       "      <td>...</td>\n",
       "      <td>...</td>\n",
       "      <td>...</td>\n",
       "      <td>...</td>\n",
       "      <td>...</td>\n",
       "      <td>...</td>\n",
       "      <td>...</td>\n",
       "      <td>...</td>\n",
       "      <td>...</td>\n",
       "      <td>...</td>\n",
       "      <td>...</td>\n",
       "      <td>...</td>\n",
       "      <td>...</td>\n",
       "      <td>...</td>\n",
       "      <td>...</td>\n",
       "      <td>...</td>\n",
       "      <td>...</td>\n",
       "      <td>...</td>\n",
       "      <td>...</td>\n",
       "      <td>...</td>\n",
       "    </tr>\n",
       "    <tr>\n",
       "      <th>53170</th>\n",
       "      <td>21</td>\n",
       "      <td>8.158799</td>\n",
       "      <td>715.639026</td>\n",
       "      <td>-243.644276</td>\n",
       "      <td>-72.050019</td>\n",
       "      <td>0.000000</td>\n",
       "      <td>1.416667</td>\n",
       "      <td>1.672067</td>\n",
       "      <td>0.004574</td>\n",
       "      <td>36000000.0</td>\n",
       "      <td>8.682822</td>\n",
       "      <td>8.683785</td>\n",
       "      <td>0.000757</td>\n",
       "      <td>0.000013</td>\n",
       "      <td>8.683785</td>\n",
       "      <td>244</td>\n",
       "      <td>5</td>\n",
       "      <td>8.683785</td>\n",
       "      <td>8.683785</td>\n",
       "      <td>12.294</td>\n",
       "    </tr>\n",
       "    <tr>\n",
       "      <th>53171</th>\n",
       "      <td>22</td>\n",
       "      <td>8.158799</td>\n",
       "      <td>715.639026</td>\n",
       "      <td>-243.644276</td>\n",
       "      <td>-72.050019</td>\n",
       "      <td>0.000000</td>\n",
       "      <td>1.416667</td>\n",
       "      <td>1.672067</td>\n",
       "      <td>0.004574</td>\n",
       "      <td>36000000.0</td>\n",
       "      <td>7.425032</td>\n",
       "      <td>7.425783</td>\n",
       "      <td>0.000528</td>\n",
       "      <td>0.000016</td>\n",
       "      <td>7.425783</td>\n",
       "      <td>244</td>\n",
       "      <td>5</td>\n",
       "      <td>7.425783</td>\n",
       "      <td>7.425783</td>\n",
       "      <td>12.294</td>\n",
       "    </tr>\n",
       "    <tr>\n",
       "      <th>53172</th>\n",
       "      <td>23</td>\n",
       "      <td>8.158799</td>\n",
       "      <td>715.639026</td>\n",
       "      <td>-243.644276</td>\n",
       "      <td>-72.050019</td>\n",
       "      <td>0.000000</td>\n",
       "      <td>1.416667</td>\n",
       "      <td>1.672067</td>\n",
       "      <td>0.004574</td>\n",
       "      <td>36000000.0</td>\n",
       "      <td>6.179781</td>\n",
       "      <td>6.180297</td>\n",
       "      <td>0.000300</td>\n",
       "      <td>0.000020</td>\n",
       "      <td>6.180297</td>\n",
       "      <td>244</td>\n",
       "      <td>5</td>\n",
       "      <td>6.180297</td>\n",
       "      <td>6.180297</td>\n",
       "      <td>12.294</td>\n",
       "    </tr>\n",
       "    <tr>\n",
       "      <th>53173</th>\n",
       "      <td>24</td>\n",
       "      <td>8.158799</td>\n",
       "      <td>715.639026</td>\n",
       "      <td>-243.644276</td>\n",
       "      <td>-72.050019</td>\n",
       "      <td>0.000000</td>\n",
       "      <td>1.416667</td>\n",
       "      <td>1.672067</td>\n",
       "      <td>0.004574</td>\n",
       "      <td>36000000.0</td>\n",
       "      <td>4.940607</td>\n",
       "      <td>4.940868</td>\n",
       "      <td>0.000065</td>\n",
       "      <td>0.000037</td>\n",
       "      <td>4.940868</td>\n",
       "      <td>244</td>\n",
       "      <td>5</td>\n",
       "      <td>4.940868</td>\n",
       "      <td>4.940868</td>\n",
       "      <td>12.294</td>\n",
       "    </tr>\n",
       "    <tr>\n",
       "      <th>53174</th>\n",
       "      <td>25</td>\n",
       "      <td>8.158799</td>\n",
       "      <td>715.639026</td>\n",
       "      <td>-243.644276</td>\n",
       "      <td>-72.050019</td>\n",
       "      <td>0.000000</td>\n",
       "      <td>1.416667</td>\n",
       "      <td>1.672067</td>\n",
       "      <td>0.004574</td>\n",
       "      <td>36000000.0</td>\n",
       "      <td>3.702740</td>\n",
       "      <td>3.702740</td>\n",
       "      <td>0.000065</td>\n",
       "      <td>0.000037</td>\n",
       "      <td>3.702740</td>\n",
       "      <td>244</td>\n",
       "      <td>5</td>\n",
       "      <td>3.702740</td>\n",
       "      <td>3.702740</td>\n",
       "      <td>12.294</td>\n",
       "    </tr>\n",
       "  </tbody>\n",
       "</table>\n",
       "<p>53175 rows × 20 columns</p>\n",
       "</div>"
      ],
      "text/plain": [
       "       depth  AirTemp_degC  Longwave_Wm-2  Latent_Wm-2  Sensible_Wm-2  \\\n",
       "0          1     20.067094     700.346566  -100.232536      22.533627   \n",
       "1          2     20.067094     700.346566  -100.232536      22.533627   \n",
       "2          3     20.067094     700.346566  -100.232536      22.533627   \n",
       "3          4     20.067094     700.346566  -100.232536      22.533627   \n",
       "4          5     20.067094     700.346566  -100.232536      22.533627   \n",
       "...      ...           ...            ...          ...            ...   \n",
       "53170     21      8.158799     715.639026  -243.644276     -72.050019   \n",
       "53171     22      8.158799     715.639026  -243.644276     -72.050019   \n",
       "53172     23      8.158799     715.639026  -243.644276     -72.050019   \n",
       "53173     24      8.158799     715.639026  -243.644276     -72.050019   \n",
       "53174     25      8.158799     715.639026  -243.644276     -72.050019   \n",
       "\n",
       "       Shortwave_Wm-2  lightExtinct_m-1  ShearVelocity_mS-1  ShearStress_Nm-2  \\\n",
       "0          695.446647          0.248168            1.054814          0.002187   \n",
       "1          695.446647          0.248168            1.054814          0.002187   \n",
       "2          695.446647          0.248168            1.054814          0.002187   \n",
       "3          695.446647          0.248168            1.054814          0.002187   \n",
       "4          695.446647          0.248168            1.054814          0.002187   \n",
       "...               ...               ...                 ...               ...   \n",
       "53170        0.000000          1.416667            1.672067          0.004574   \n",
       "53171        0.000000          1.416667            1.672067          0.004574   \n",
       "53172        0.000000          1.416667            1.672067          0.004574   \n",
       "53173        0.000000          1.416667            1.672067          0.004574   \n",
       "53174        0.000000          1.416667            1.672067          0.004574   \n",
       "\n",
       "          Area_m2  input_temp  temp_total04  buoyancy  diffusivity  \\\n",
       "0      36000000.0   13.110569     13.501710  0.000533     0.000010   \n",
       "1      36000000.0   11.806688     11.907665  0.000533     0.000016   \n",
       "2      36000000.0   11.306141     11.368285  0.000262     0.000021   \n",
       "3      36000000.0   11.048210     11.092567  0.000150     0.000027   \n",
       "4      36000000.0   10.896431     10.928626  0.000100     0.000032   \n",
       "...           ...         ...           ...       ...          ...   \n",
       "53170  36000000.0    8.682822      8.683785  0.000757     0.000013   \n",
       "53171  36000000.0    7.425032      7.425783  0.000528     0.000016   \n",
       "53172  36000000.0    6.179781      6.180297  0.000300     0.000020   \n",
       "53173  36000000.0    4.940607      4.940868  0.000065     0.000037   \n",
       "53174  36000000.0    3.702740      3.702740  0.000065     0.000037   \n",
       "\n",
       "       temp_diff01  day_of_year  time_of_day  temp_mix02  temp_conv03  \\\n",
       "0        13.501710          155           15   13.501710    13.501710   \n",
       "1        11.907665          155           15   11.907665    11.907665   \n",
       "2        11.368285          155           15   11.368285    11.368285   \n",
       "3        11.092567          155           15   11.092567    11.092567   \n",
       "4        10.928626          155           15   10.928626    10.928626   \n",
       "...            ...          ...          ...         ...          ...   \n",
       "53170     8.683785          244            5    8.683785     8.683785   \n",
       "53171     7.425783          244            5    7.425783     7.425783   \n",
       "53172     6.180297          244            5    6.180297     6.180297   \n",
       "53173     4.940868          244            5    4.940868     4.940868   \n",
       "53174     3.702740          244            5    3.702740     3.702740   \n",
       "\n",
       "       obs_temp  \n",
       "0        16.409  \n",
       "1        16.480  \n",
       "2        16.130  \n",
       "3        15.827  \n",
       "4        16.270  \n",
       "...         ...  \n",
       "53170    12.294  \n",
       "53171    12.294  \n",
       "53172    12.294  \n",
       "53173    12.294  \n",
       "53174    12.294  \n",
       "\n",
       "[53175 rows x 20 columns]"
      ]
     },
     "execution_count": 31,
     "metadata": {},
     "output_type": "execute_result"
    }
   ],
   "source": [
    "data_df = pd.read_csv(\"all_data_lake_modeling_in_time.csv\")\n",
    "time = data_df['time']\n",
    "data_df = data_df.drop(columns=['time'])\n",
    "data_df"
   ]
  },
  {
   "cell_type": "code",
   "execution_count": 5,
   "metadata": {},
   "outputs": [
    {
     "name": "stdout",
     "output_type": "stream",
     "text": [
      "Number of days total: 2127\n",
      "Number of training points: 31900\n"
     ]
    }
   ],
   "source": [
    "training_frac = 0.60\n",
    "depth_steps = 25\n",
    "number_days = len(data_df)//depth_steps\n",
    "n_obs = int(number_days*training_frac)*depth_steps\n",
    "print(f\"Number of days total: {number_days}\")\n",
    "print(f\"Number of training points: {n_obs}\")"
   ]
  },
  {
   "cell_type": "markdown",
   "metadata": {},
   "source": [
    "# Normalizing Data"
   ]
  },
  {
   "cell_type": "code",
   "execution_count": 32,
   "metadata": {},
   "outputs": [],
   "source": [
    "data = data_df.values\n",
    "\n",
    "train_data = data[:n_obs]\n",
    "test_data = data[n_obs:]\n",
    "\n",
    "train_time = time[:n_obs]\n",
    "test_time = time[n_obs:]\n",
    "\n",
    "#performing normalization on all the columns\n",
    "scaler = StandardScaler()\n",
    "scaler.fit(train_data)\n",
    "train_data = scaler.transform(train_data)\n",
    "test_data = scaler.transform(test_data)"
   ]
  },
  {
   "cell_type": "markdown",
   "metadata": {},
   "source": [
    "# Loading Models"
   ]
  },
  {
   "cell_type": "markdown",
   "metadata": {},
   "source": [
    "## Heat Diffusion Model"
   ]
  },
  {
   "cell_type": "code",
   "execution_count": 7,
   "metadata": {},
   "outputs": [
    {
     "name": "stdout",
     "output_type": "stream",
     "text": [
      "Initializing Network with Xavier Initialization..\n"
     ]
    }
   ],
   "source": [
    "m1_input_columns = ['depth', 'AirTemp_degC', 'Longwave_Wm-2', 'Latent_Wm-2', 'Sensible_Wm-2', 'Shortwave_Wm-2',\n",
    "                'lightExtinct_m-1', 'ShearVelocity_mS-1', 'ShearStress_Nm-2', 'Area_m2', \n",
    "                 'buoyancy', 'day_of_year', 'time_of_day', 'input_temp']\n",
    "m1_output_columns = ['diffusivity', 'temp_diff01']\n",
    "\n",
    "m1_input_column_ix = [data_df.columns.get_loc(column) for column in m1_input_columns]\n",
    "m1_output_column_ix = [data_df.columns.get_loc(column) for column in m1_output_columns]\n",
    "\n",
    "m1_PATH = f\"./saved_models/heat_diffusion_model_time.pth\"\n",
    "m1_layers = [len(m1_input_columns), 32, 32, len(m1_output_columns)]\n",
    "\n",
    "heat_diff_model = MLP(m1_layers, activation=\"gelu\")\n",
    "m1_checkpoint = torch.load(m1_PATH, map_location=torch.device('cpu'))\n",
    "heat_diff_model.load_state_dict(m1_checkpoint)\n",
    "heat_diff_model = heat_diff_model.to(device)"
   ]
  },
  {
   "cell_type": "markdown",
   "metadata": {},
   "source": [
    "## Mixing Model"
   ]
  },
  {
   "cell_type": "code",
   "execution_count": 8,
   "metadata": {},
   "outputs": [
    {
     "name": "stdout",
     "output_type": "stream",
     "text": [
      "Initializing Network with Xavier Initialization..\n"
     ]
    }
   ],
   "source": [
    "m2_input_columns = ['depth', 'ShearVelocity_mS-1', 'ShearStress_Nm-2', 'day_of_year', 'time_of_day', 'temp_diff01']\n",
    "m2_output_columns = ['temp_mix02']\n",
    "\n",
    "m2_input_column_ix = [data_df.columns.get_loc(column) for column in m2_input_columns]\n",
    "m2_output_column_ix = [data_df.columns.get_loc(column) for column in m2_output_columns]\n",
    "\n",
    "m2_PATH = f\"./saved_models/mixing_model_time.pth\"\n",
    "m2_layers = [len(m2_input_columns), 32, 32, len(m2_output_columns)]\n",
    "\n",
    "mixing_model = MLP(m2_layers, activation=\"gelu\")\n",
    "m2_checkpoint = torch.load(m2_PATH, map_location=torch.device('cpu'))\n",
    "mixing_model.load_state_dict(m2_checkpoint)\n",
    "mixing_model = mixing_model.to(device)"
   ]
  },
  {
   "cell_type": "markdown",
   "metadata": {},
   "source": [
    "# Convection Model"
   ]
  },
  {
   "cell_type": "code",
   "execution_count": 9,
   "metadata": {},
   "outputs": [
    {
     "name": "stdout",
     "output_type": "stream",
     "text": [
      "Initializing Network with Xavier Initialization..\n"
     ]
    }
   ],
   "source": [
    "m3_input_columns = ['depth', 'day_of_year', 'time_of_day', 'temp_mix02']\n",
    "m3_output_columns = ['temp_conv03']\n",
    "\n",
    "m3_input_column_ix = [data_df.columns.get_loc(column) for column in m3_input_columns]\n",
    "m3_output_column_ix = [data_df.columns.get_loc(column) for column in m3_output_columns]\n",
    "\n",
    "m3_PATH = f\"./saved_models/convection_model_time.pth\"\n",
    "m3_layers = [len(m3_input_columns), 32, 32, len(m3_output_columns)]\n",
    "\n",
    "convection_model = MLP(m3_layers, activation=\"gelu\")\n",
    "m3_checkpoint = torch.load(m3_PATH, map_location=torch.device('cpu'))\n",
    "convection_model.load_state_dict(m3_checkpoint)\n",
    "convection_model = convection_model.to(device)"
   ]
  },
  {
   "cell_type": "markdown",
   "metadata": {},
   "source": [
    "# Ice Model"
   ]
  },
  {
   "cell_type": "code",
   "execution_count": 10,
   "metadata": {},
   "outputs": [
    {
     "name": "stdout",
     "output_type": "stream",
     "text": [
      "Initializing Network with Xavier Initialization..\n"
     ]
    }
   ],
   "source": [
    "m4_input_columns = ['depth', 'day_of_year', 'time_of_day', 'temp_conv03']\n",
    "m4_output_columns = ['temp_total04']\n",
    "\n",
    "m4_input_column_ix = [data_df.columns.get_loc(column) for column in m4_input_columns]\n",
    "m4_output_column_ix = [data_df.columns.get_loc(column) for column in m4_output_columns]\n",
    "\n",
    "m4_PATH = f\"./saved_models/ice_model_time.pth\"\n",
    "m4_layers = [len(m4_input_columns), 32, 32, len(m4_output_columns)]\n",
    "\n",
    "ice_model = MLP(m4_layers, activation=\"gelu\")\n",
    "m4_checkpoint = torch.load(m4_PATH, map_location=torch.device('cpu'))\n",
    "ice_model.load_state_dict(m4_checkpoint)\n",
    "ice_model = ice_model.to(device)"
   ]
  },
  {
   "cell_type": "code",
   "execution_count": 11,
   "metadata": {},
   "outputs": [],
   "source": [
    "# depth_steps = 24\n",
    "# train_data = np.reshape(train_data, (train_data.shape[0]//depth_steps, depth_steps, train_data.shape[1]))\n",
    "# test_data = np.reshape(test_data, (test_data.shape[0]//depth_steps, depth_steps, test_data.shape[1]))"
   ]
  },
  {
   "cell_type": "code",
   "execution_count": 12,
   "metadata": {},
   "outputs": [],
   "source": [
    "#keeping track of the mean and standard deviations\n",
    "train_mean = scaler.mean_\n",
    "train_std = scaler.scale_"
   ]
  },
  {
   "cell_type": "code",
   "execution_count": 13,
   "metadata": {},
   "outputs": [],
   "source": [
    "# Create data set\n",
    "batch_size = 1024\n",
    "train_dataset = DataGenerator(train_data)\n",
    "test_dataset = DataGenerator(test_data)\n",
    "# train_dataset = torch.utils.data.TensorDataset(X_train, y_train)\n",
    "# test_dataset = torch.utils.data.TensorDataset(X_test, y_test)\n",
    "\n",
    "train_loader = torch.utils.data.DataLoader(train_dataset, batch_size=batch_size, \n",
    "                                           shuffle=False)\n",
    "test_loader = torch.utils.data.DataLoader(test_dataset, batch_size=batch_size,\n",
    "                                          shuffle=False)"
   ]
  },
  {
   "cell_type": "code",
   "execution_count": 14,
   "metadata": {},
   "outputs": [
    {
     "name": "stdout",
     "output_type": "stream",
     "text": [
      "(31900, 20)\n",
      "(21275, 20)\n"
     ]
    }
   ],
   "source": [
    "print(train_data.shape)\n",
    "print(test_data.shape)"
   ]
  },
  {
   "cell_type": "code",
   "execution_count": 15,
   "metadata": {},
   "outputs": [],
   "source": [
    "def rmse(true, pred):\n",
    "    return (((true-pred)**2).mean()**0.5).detach().cpu().numpy()\n",
    "\n",
    "def l2_error(true, pred):\n",
    "    return np.linalg.norm(pred.detach().cpu().numpy() - true.detach().cpu().numpy()) / np.linalg.norm(true.detach().cpu().numpy()) "
   ]
  },
  {
   "cell_type": "code",
   "execution_count": 16,
   "metadata": {},
   "outputs": [],
   "source": [
    "def compute_metrics(model, loader, input_columns, output_columns, train_mean, train_std):\n",
    "    model.eval()\n",
    "    y_ = []\n",
    "    pred_ = []\n",
    "    mean = torch.tensor(train_mean[output_columns]).to(device)\n",
    "    std = torch.tensor(train_std[output_columns]).to(device)\n",
    "    \n",
    "    for x in iter(loader):\n",
    "        inputs, target = x[:, input_columns].to(device).float(), x[:, output_columns].to(device).float()\n",
    "        pred = model(inputs)\n",
    "        target = target * std + mean\n",
    "        pred = pred * std + mean\n",
    "        y_.append(target)\n",
    "        pred_.append(pred)\n",
    "    y_ = torch.cat(y_, dim=0) \n",
    "    pred_ = torch.cat(pred_, dim=0)\n",
    "    \n",
    "    if y_.shape[1]==2:\n",
    "        rmse_temp = rmse(y_[:,1], pred_[:,1])\n",
    "        l2_error_temp = l2_error(y_[:,1], pred_[:,1])\n",
    "    else:\n",
    "        rmse_temp = rmse(y_[:,0], pred_[:,0])\n",
    "        l2_error_temp = l2_error(y_[:,0], pred_[:,0])\n",
    "        \n",
    "    return rmse_temp, l2_error_temp"
   ]
  },
  {
   "cell_type": "code",
   "execution_count": 17,
   "metadata": {},
   "outputs": [],
   "source": [
    "def get_rollout_predictions(heat_diff_model, mixing_model, convection_model, ice_model, loader, plot = True):    \n",
    "    heat_diff_model.eval()\n",
    "    mixing_model.eval()\n",
    "    convection_model.eval()\n",
    "    ice_model.eval()\n",
    "\n",
    "    mean = torch.tensor(train_mean[m4_output_column_ix]).float().to(device)\n",
    "    std = torch.tensor(train_std[m4_output_column_ix]).float().to(device)\n",
    "\n",
    "    m1_mean = torch.tensor(train_mean[m1_input_column_ix[-1]]).float().to(device)\n",
    "    m1_std = torch.tensor(train_std[m1_input_column_ix[-1]]).float().to(device)\n",
    "\n",
    "#     depthwise_y_pred = []\n",
    "#     depthwise_y_true = []\n",
    "    y_ = []\n",
    "    pred_ = []\n",
    "        \n",
    "    rmse_models = np.zeros((len(loader), 4))\n",
    "    for ix, x in enumerate(iter(loader)):\n",
    "        x = x.to(device).float()\n",
    "        \n",
    "\n",
    "        m1_input = x[:, m1_input_column_ix]\n",
    "            \n",
    "        #model 1\n",
    "        m1_pred = heat_diff_model(m1_input) #predicts diff and temp\n",
    "        m1_pred_temp = m1_pred[:,1:2]\n",
    "            \n",
    "        if plot:\n",
    "            m1_y_true = x[:, m1_output_column_ix[1]] * torch.tensor(train_std[m1_output_column_ix[1]]).to(device) + torch.tensor(train_mean[m1_output_column_ix[1]]).to(device)\n",
    "            m1_y_pred = m1_pred_temp * torch.tensor(train_std[m1_output_column_ix[1]]).to(device) + torch.tensor(train_mean[m1_output_column_ix[1]]).to(device)\n",
    "#             print(m1_y_true.shape, m1_y_pred.shape)\n",
    "#             print(\"True\",m1_y_true)\n",
    "#             print(\"Pred\",m1_y_pred)\n",
    "            rmse_models[ix, 0] = rmse(m1_y_true.squeeze(), m1_y_pred.squeeze())\n",
    "#             print(x[:, m1_output_column_ix[1]])\n",
    "#             print(m1_pred_temp)\n",
    "#             print(criterion(m1_pred_temp, x[:, m1_output_column_ix[1]]))\n",
    "#                 print(\"RMSE of after m1\", rmse(m1_y_true.flatten(), m1_y_pred.flatten()))\n",
    "\n",
    "        #model 2\n",
    "        m2_input = torch.cat([x[:, m2_input_column_ix[:-1]], m1_pred_temp], dim=-1)\n",
    "        m2_pred = mixing_model(m2_input)\n",
    "            \n",
    "        if plot:\n",
    "            m2_y_true = x[:, m2_output_column_ix] * torch.tensor(train_std[m2_output_column_ix[0]]).to(device) + torch.tensor(train_mean[m2_output_column_ix[0]]).to(device)\n",
    "            m2_y_pred = m2_pred * torch.tensor(train_std[m2_output_column_ix[0]]).to(device) + torch.tensor(train_mean[m2_output_column_ix[0]]).to(device)\n",
    "            rmse_models[ix, 1] = rmse(m2_y_true.squeeze(), m2_y_pred.squeeze())\n",
    "#                 print(\"RMSE of after m2\", rmse(m2_y_true.flatten(), m2_y_pred.flatten()))\n",
    "\n",
    "        #model 3\n",
    "        m3_input = torch.cat([x[:, m3_input_column_ix[:-1]], m2_pred], dim=-1)\n",
    "        m3_pred = convection_model(m3_input)\n",
    "            \n",
    "        if plot:\n",
    "            m3_y_true = x[:, m3_output_column_ix] * torch.tensor(train_std[m3_output_column_ix[0]]).to(device) + torch.tensor(train_mean[m3_output_column_ix[0]]).to(device)\n",
    "            m3_y_pred = m3_pred * torch.tensor(train_std[m3_output_column_ix[0]]).to(device) + torch.tensor(train_mean[m3_output_column_ix[0]]).to(device)\n",
    "            rmse_models[ix, 2] = rmse(m3_y_true.squeeze(), m3_y_pred.squeeze())\n",
    "#                 print(\"RMSE of after m3\", rmse(m3_y_true.flatten(), m3_y_pred.flatten()))\n",
    "\n",
    "        #model 4\n",
    "        m4_input = torch.cat([x[:, m4_input_column_ix[:-1]], m3_pred], dim=-1)\n",
    "        m4_pred = ice_model(m4_input)\n",
    "            \n",
    "        if plot:\n",
    "            m4_y_true = x[:, m4_output_column_ix] * std + mean\n",
    "            m4_y_pred = m4_pred * std + mean\n",
    "            rmse_models[ix, 3] = rmse(m4_y_true.squeeze(), m4_y_pred.squeeze())\n",
    "#                 print(\"RMSE of after m4\", rmse(m4_y_true.flatten(), m4_y_pred.flatten()))\n",
    "\n",
    "        y_true = x[:, m4_output_column_ix] * std + mean\n",
    "\n",
    "        pred = m4_pred * std + mean\n",
    "        \n",
    "        y_.append(y_true)\n",
    "        pred_.append(pred)\n",
    "\n",
    "    y_ = torch.cat(y_, dim=0)\n",
    "    pred_ = torch.cat(pred_, dim=0) \n",
    "    \n",
    "#     if plot:\n",
    "#         rmse_models = rmse_models.mean(axis=0)\n",
    "#         plt.figure(figsize=(12,8))\n",
    "#         plt.plot(rmse_models[:, 0], label=\"RMSE after Heat-Diffusion Model\")\n",
    "#         plt.plot(rmse_models[:, 1], label=\"RMSE after Mixing Model\")\n",
    "#         plt.plot(rmse_models[:, 2], label=\"RMSE after Convection Model\")\n",
    "#         plt.plot(rmse_models[:, 3], label=\"RMSE after Ice Model\")\n",
    "#         plt.legend(loc=\"upper left\", fontsize=12)\n",
    "#         plt.xlabel(\"Depth\", fontsize=12)\n",
    "#         plt.ylabel(\"RMSE\", fontsize=12)\n",
    "#         plt.grid(\"on\", alpha=0.5)\n",
    "#         plt.show()\n",
    "    \n",
    "    return pred_, y_, rmse_models\n"
   ]
  },
  {
   "cell_type": "code",
   "execution_count": 18,
   "metadata": {},
   "outputs": [],
   "source": [
    "def plot_output(y_pred, y_true, depth_steps, time_label, figsize=(20,10)):\n",
    "    time_label = np.array([time[:10] for time in time_label])\n",
    "    time_label = time_label[::depth_steps]\n",
    "    \n",
    "    y_pred = y_pred.flatten().detach().cpu().numpy()\n",
    "    y_true = y_true.flatten().detach().cpu().numpy()\n",
    "    \n",
    "    y_true = np.reshape(y_true, (y_true.shape[0]//depth_steps, depth_steps))\n",
    "    y_pred = np.reshape(y_pred, (y_pred.shape[0]//depth_steps, depth_steps))\n",
    "    \n",
    "    N_pts = 6 # number of points to display on the x-label\n",
    "    \n",
    "    fig, ax = plt.subplots(3, 1, figsize=figsize)\n",
    "    sns.heatmap(y_true.T, ax=ax[0], cmap='seismic', vmin=0., vmax=35.)\n",
    "    ax[0].set_ylabel(\"Depth\", fontsize=15)\n",
    "    ax[0].set_xlabel(\"Time\", fontsize=15)\n",
    "    \n",
    "    xticks_ix = np.array(ax[0].get_xticks()).astype(int)\n",
    "    time_label = time_label[xticks_ix]\n",
    "    nelement = len(time_label)//N_pts\n",
    "    time_label = time_label[::nelement]\n",
    "    ax[0].xaxis.set_major_locator(plt.MaxNLocator(N_pts))\n",
    "    ax[0].set_xticklabels(time_label, rotation=0)   \n",
    "#     ax[0].xaxis.set_major_locator(plt.MultipleLocator(100))\n",
    "    ax[0].collections[0].colorbar.set_label(\"Actual Temperature\")\n",
    "    \n",
    "    sns.heatmap(y_pred.T, ax=ax[1], cmap='seismic', vmin=0., vmax=35.)\n",
    "    ax[1].set_ylabel(\"Depth\", fontsize=15)\n",
    "    ax[1].set_xlabel(\"Time\", fontsize=15)\n",
    "    ax[1].xaxis.set_major_locator(plt.MaxNLocator(N_pts))\n",
    "    ax[1].set_xticklabels(time_label, rotation=0)\n",
    "    ax[1].collections[0].colorbar.set_label(\"Predicted Temperature\")\n",
    "    \n",
    "    sns.heatmap(np.abs(y_pred.T-y_true.T), ax=ax[2], cmap='viridis')\n",
    "    ax[2].set_ylabel(\"Depth\", fontsize=15)\n",
    "    ax[2].set_xlabel(\"Time\", fontsize=15)\n",
    "    ax[2].xaxis.set_major_locator(plt.MaxNLocator(N_pts))\n",
    "    ax[2].set_xticklabels(time_label, rotation=0)\n",
    "    \n",
    "    ax[2].collections[0].colorbar.set_label(\"Absolute Error\")\n",
    "    plt.show()"
   ]
  },
  {
   "cell_type": "markdown",
   "metadata": {},
   "source": [
    "# Rollout Results"
   ]
  },
  {
   "cell_type": "markdown",
   "metadata": {},
   "source": [
    "## Training Results"
   ]
  },
  {
   "cell_type": "code",
   "execution_count": 19,
   "metadata": {},
   "outputs": [
    {
     "name": "stdout",
     "output_type": "stream",
     "text": [
      "Train RMSE: 0.10291177779436111\n",
      "Train L2 Error: 0.007227682508528233\n",
      "The RMSEs after each modelling stage: [0.08091957 0.09639877 0.09610429 0.09595425]\n"
     ]
    }
   ],
   "source": [
    "train_y_pred, train_y_true, train_rmse_models = get_rollout_predictions(heat_diff_model, mixing_model, convection_model, ice_model, train_loader, plot = True)\n",
    "train_rmse = rmse(train_y_pred.flatten(), train_y_true.flatten())\n",
    "train_l2 = l2_error(train_y_pred.flatten(), train_y_true.flatten())\n",
    "\n",
    "print(f\"Train RMSE: {train_rmse}\")\n",
    "print(f\"Train L2 Error: {train_l2}\")\n",
    "print(f\"The RMSEs after each modelling stage: {train_rmse_models.mean(axis=0)}\")"
   ]
  },
  {
   "cell_type": "markdown",
   "metadata": {},
   "source": [
    "## Test Results"
   ]
  },
  {
   "cell_type": "code",
   "execution_count": 20,
   "metadata": {},
   "outputs": [
    {
     "name": "stdout",
     "output_type": "stream",
     "text": [
      "test RMSE: 0.29926931858062744\n",
      "test L2 Error: 0.01828470639884472\n",
      "The RMSEs after each modelling stage: [0.27206151 0.27283672 0.28075058 0.28045667]\n"
     ]
    }
   ],
   "source": [
    "test_y_pred, test_y_true, test_rmse_models = get_rollout_predictions(heat_diff_model, mixing_model, convection_model, ice_model, test_loader, plot = True)\n",
    "test_rmse = rmse(test_y_pred.flatten(), test_y_true.flatten())\n",
    "test_l2 = l2_error(test_y_pred.flatten(), test_y_true.flatten())\n",
    "\n",
    "print(f\"test RMSE: {test_rmse}\")\n",
    "print(f\"test L2 Error: {test_l2}\")\n",
    "print(f\"The RMSEs after each modelling stage: {test_rmse_models.mean(axis=0)}\")"
   ]
  },
  {
   "cell_type": "markdown",
   "metadata": {},
   "source": [
    "# Evaluate ALL Models individually"
   ]
  },
  {
   "cell_type": "markdown",
   "metadata": {},
   "source": [
    "## Heat Diffusion Model"
   ]
  },
  {
   "cell_type": "code",
   "execution_count": 21,
   "metadata": {},
   "outputs": [
    {
     "name": "stdout",
     "output_type": "stream",
     "text": [
      "Train RMSE: 0.0817324900459821, Train L2 Error: 0.005737879831358262\n",
      "Test RMSE: 0.28902133453297296, Train L2 Error: 0.01762312677380483\n"
     ]
    }
   ],
   "source": [
    "train_rmse, train_l2_err = compute_metrics(heat_diff_model, train_loader, m1_input_column_ix, m1_output_column_ix, train_mean, train_std)\n",
    "print(f\"Train RMSE: {train_rmse}, Train L2 Error: {train_l2_err}\")\n",
    "\n",
    "test_rmse, test_l2_err = compute_metrics(heat_diff_model, test_loader, m1_input_column_ix, m1_output_column_ix, train_mean, train_std)\n",
    "print(f\"Test RMSE: {test_rmse}, Train L2 Error: {test_l2_err}\")"
   ]
  },
  {
   "cell_type": "markdown",
   "metadata": {},
   "source": [
    "## Mixing Model"
   ]
  },
  {
   "cell_type": "code",
   "execution_count": 22,
   "metadata": {},
   "outputs": [
    {
     "name": "stdout",
     "output_type": "stream",
     "text": [
      "Train RMSE: 0.06913960640909658, Train L2 Error: 0.004853585871637515\n",
      "Test RMSE: 0.1354986655051394, Train L2 Error: 0.00826164366548435\n"
     ]
    }
   ],
   "source": [
    "train_rmse, train_l2_err = compute_metrics(mixing_model, train_loader, m2_input_column_ix, m2_output_column_ix, train_mean, train_std)\n",
    "print(f\"Train RMSE: {train_rmse}, Train L2 Error: {train_l2_err}\")\n",
    "\n",
    "test_rmse, test_l2_err = compute_metrics(mixing_model, test_loader, m2_input_column_ix, m2_output_column_ix, train_mean, train_std)\n",
    "print(f\"Test RMSE: {test_rmse}, Train L2 Error: {test_l2_err}\")"
   ]
  },
  {
   "cell_type": "markdown",
   "metadata": {},
   "source": [
    "## Convection Model"
   ]
  },
  {
   "cell_type": "code",
   "execution_count": 23,
   "metadata": {},
   "outputs": [
    {
     "name": "stdout",
     "output_type": "stream",
     "text": [
      "Train RMSE: 0.0099779300173876, Train L2 Error: 0.0007004577548893045\n",
      "Test RMSE: 0.05274486667913477, Train L2 Error: 0.0032160462950799893\n"
     ]
    }
   ],
   "source": [
    "train_rmse, train_l2_err = compute_metrics(convection_model, train_loader, m3_input_column_ix, m3_output_column_ix, train_mean, train_std)\n",
    "print(f\"Train RMSE: {train_rmse}, Train L2 Error: {train_l2_err}\")\n",
    "\n",
    "test_rmse, test_l2_err = compute_metrics(convection_model, test_loader, m3_input_column_ix, m3_output_column_ix, train_mean, train_std)\n",
    "print(f\"Test RMSE: {test_rmse}, Train L2 Error: {test_l2_err}\")"
   ]
  },
  {
   "cell_type": "markdown",
   "metadata": {},
   "source": [
    "## Ice Model"
   ]
  },
  {
   "cell_type": "code",
   "execution_count": 24,
   "metadata": {},
   "outputs": [
    {
     "name": "stdout",
     "output_type": "stream",
     "text": [
      "Train RMSE: 0.0022876743880760205, Train L2 Error: 0.0001605963624716858\n",
      "Test RMSE: 0.06627033751756038, Train L2 Error: 0.0040407434289972625\n"
     ]
    }
   ],
   "source": [
    "train_rmse, train_l2_err = compute_metrics(ice_model, train_loader, m4_input_column_ix, m4_output_column_ix, train_mean, train_std)\n",
    "print(f\"Train RMSE: {train_rmse}, Train L2 Error: {train_l2_err}\")\n",
    "\n",
    "test_rmse, test_l2_err = compute_metrics(ice_model, test_loader, m4_input_column_ix, m4_output_column_ix, train_mean, train_std)\n",
    "print(f\"Test RMSE: {test_rmse}, Train L2 Error: {test_l2_err}\")"
   ]
  },
  {
   "cell_type": "code",
   "execution_count": null,
   "metadata": {},
   "outputs": [],
   "source": []
  },
  {
   "cell_type": "markdown",
   "metadata": {},
   "source": [
    "# Finetuning"
   ]
  },
  {
   "cell_type": "code",
   "execution_count": 25,
   "metadata": {},
   "outputs": [],
   "source": [
    "lr = 1e-5\n",
    "# decay_rate = 0.1\n",
    "# decay_steps = 500\n",
    "\n",
    "params = list(heat_diff_model.parameters()) + list(mixing_model.parameters()) + list(convection_model.parameters()) + list(ice_model.parameters())\n",
    "\n",
    "optimizer = torch.optim.Adam(params, lr=lr, \n",
    "                             betas=(0.9, 0.999), eps=1e-08, weight_decay=0, amsgrad=False)\n",
    "# lr_scheduler = torch.optim.lr_scheduler.StepLR(optimizer, step_size=decay_steps, gamma=decay_rate)\n",
    "\n",
    "criterion = torch.nn.MSELoss()"
   ]
  },
  {
   "cell_type": "code",
   "execution_count": 26,
   "metadata": {},
   "outputs": [
    {
     "name": "stderr",
     "output_type": "stream",
     "text": [
      "  0%|          | 1/500 [00:00<03:10,  2.62it/s]"
     ]
    },
    {
     "name": "stdout",
     "output_type": "stream",
     "text": [
      "Epoch : 0, Train_loss: 0.0003037899543869571, Loss m1: 0.00019578503952288884, Loss m2: 0.00030208164093892265, Loss m3: 0.000299955012906139, Loss m4: 0.0003037899543869571\n"
     ]
    },
    {
     "name": "stderr",
     "output_type": "stream",
     "text": [
      " 10%|█         | 51/500 [00:19<02:37,  2.84it/s]"
     ]
    },
    {
     "name": "stdout",
     "output_type": "stream",
     "text": [
      "Epoch : 50, Train_loss: 0.0002474000904157947, Loss m1: 0.00019498367907999636, Loss m2: 0.0002651763943504193, Loss m3: 0.0002516925407007875, Loss m4: 0.0002474000904157947\n"
     ]
    },
    {
     "name": "stderr",
     "output_type": "stream",
     "text": [
      " 20%|██        | 101/500 [00:37<02:24,  2.75it/s]"
     ]
    },
    {
     "name": "stdout",
     "output_type": "stream",
     "text": [
      "Epoch : 100, Train_loss: 0.00023653066500628483, Loss m1: 0.00021331339166863472, Loss m2: 0.0002706187394778681, Loss m3: 0.0002447688229949563, Loss m4: 0.00023653066500628483\n"
     ]
    },
    {
     "name": "stderr",
     "output_type": "stream",
     "text": [
      " 30%|███       | 151/500 [00:56<02:03,  2.81it/s]"
     ]
    },
    {
     "name": "stdout",
     "output_type": "stream",
     "text": [
      "Epoch : 150, Train_loss: 0.00022858133843328687, Loss m1: 0.00023444191015187243, Loss m2: 0.0002821436405611166, Loss m3: 0.000242145534230076, Loss m4: 0.00022858133843328687\n"
     ]
    },
    {
     "name": "stderr",
     "output_type": "stream",
     "text": [
      " 40%|████      | 201/500 [01:15<01:43,  2.89it/s]"
     ]
    },
    {
     "name": "stdout",
     "output_type": "stream",
     "text": [
      "Epoch : 200, Train_loss: 0.00022211188888832112, Loss m1: 0.0002583545981451607, Loss m2: 0.00029863199688406894, Loss m3: 0.0002425095365197194, Loss m4: 0.00022211188888832112\n"
     ]
    },
    {
     "name": "stderr",
     "output_type": "stream",
     "text": [
      " 50%|█████     | 251/500 [01:33<01:30,  2.77it/s]"
     ]
    },
    {
     "name": "stdout",
     "output_type": "stream",
     "text": [
      "Epoch : 250, Train_loss: 0.00021662780966380524, Loss m1: 0.0002851829435712716, Loss m2: 0.00031961785589373903, Loss m3: 0.00024530596351723943, Loss m4: 0.00021662780966380524\n"
     ]
    },
    {
     "name": "stderr",
     "output_type": "stream",
     "text": [
      " 60%|██████    | 301/500 [01:52<01:11,  2.77it/s]"
     ]
    },
    {
     "name": "stdout",
     "output_type": "stream",
     "text": [
      "Epoch : 300, Train_loss: 0.0002118071082577444, Loss m1: 0.00031483062366532977, Loss m2: 0.0003446018299655407, Loss m3: 0.0002501017852409859, Loss m4: 0.0002118071082577444\n"
     ]
    },
    {
     "name": "stderr",
     "output_type": "stream",
     "text": [
      " 70%|███████   | 351/500 [02:10<00:52,  2.84it/s]"
     ]
    },
    {
     "name": "stdout",
     "output_type": "stream",
     "text": [
      "Epoch : 350, Train_loss: 0.00020743776394738234, Loss m1: 0.00034703160326898796, Loss m2: 0.0003731348260771483, Loss m3: 0.00025655321314843604, Loss m4: 0.00020743776394738234\n"
     ]
    },
    {
     "name": "stderr",
     "output_type": "stream",
     "text": [
      " 80%|████████  | 401/500 [02:28<00:34,  2.88it/s]"
     ]
    },
    {
     "name": "stdout",
     "output_type": "stream",
     "text": [
      "Epoch : 400, Train_loss: 0.00020344998131349712, Loss m1: 0.0003816190055658808, Loss m2: 0.00040492931475455407, Loss m3: 0.00026446522588230437, Loss m4: 0.00020344998131349712\n"
     ]
    },
    {
     "name": "stderr",
     "output_type": "stream",
     "text": [
      " 90%|█████████ | 451/500 [02:45<00:17,  2.73it/s]"
     ]
    },
    {
     "name": "stdout",
     "output_type": "stream",
     "text": [
      "Epoch : 450, Train_loss: 0.00019983772813247924, Loss m1: 0.0004183855039627815, Loss m2: 0.00043970939123028074, Loss m3: 0.00027370700172468787, Loss m4: 0.00019983772813247924\n"
     ]
    },
    {
     "name": "stderr",
     "output_type": "stream",
     "text": [
      "100%|██████████| 500/500 [03:03<00:00,  2.73it/s]\n"
     ]
    }
   ],
   "source": [
    "heat_diff_model.train()\n",
    "mixing_model.train()\n",
    "convection_model.train()\n",
    "ice_model.train()\n",
    "\n",
    "n_epochs = 500\n",
    "\n",
    "# mean and standard dev of \"temp_total04\" of model 4 output\n",
    "mean = torch.tensor(train_mean[m4_output_column_ix]).float().to(device)\n",
    "std = torch.tensor(train_std[m4_output_column_ix]).float().to(device)\n",
    "\n",
    "# mean and standard dev of \"input_temp\" of model 1 input\n",
    "m1_mean = torch.tensor(train_mean[m1_input_column_ix[-1]]).float().to(device)\n",
    "m1_std = torch.tensor(train_std[m1_input_column_ix[-1]]).float().to(device)\n",
    "\n",
    "train_loss = []\n",
    "LOSS_m1 = []\n",
    "LOSS_m2 = []\n",
    "LOSS_m3 = []\n",
    "LOSS_m4 = []\n",
    "\n",
    "for it in tqdm(range(n_epochs)):\n",
    "    loss_epoch = 0\n",
    "    loss_epoch_m1 = 0\n",
    "    loss_epoch_m2 = 0\n",
    "    loss_epoch_m3 = 0\n",
    "    loss_epoch_m4 = 0\n",
    "    for ix, x in enumerate(iter(train_loader)):\n",
    "        x = x.to(device).float()\n",
    "        optimizer.zero_grad()\n",
    "        \n",
    "        m1_input = x[:, m1_input_column_ix]\n",
    "\n",
    "\n",
    "        #model 1\n",
    "        m1_pred = heat_diff_model(m1_input) #predicts diff and temp\n",
    "        m1_pred_temp = m1_pred[:,1:2]\n",
    "            \n",
    "        loss_m1 = criterion(m1_pred_temp, x[:, m1_output_column_ix[1]].unsqueeze(1))\n",
    "\n",
    "        #model 2\n",
    "        m2_input = torch.cat([x[:, m2_input_column_ix[:-1]], m1_pred_temp], dim=-1)\n",
    "        m2_pred = mixing_model(m2_input)\n",
    "            \n",
    "        loss_m2 = criterion(m2_pred, x[:, m2_output_column_ix])\n",
    "\n",
    "        #model 3\n",
    "        m3_input = torch.cat([x[:, m3_input_column_ix[:-1]], m2_pred], dim=-1)\n",
    "        m3_pred = convection_model(m3_input)\n",
    "\n",
    "        loss_m3 = criterion(m3_pred, x[:, m3_output_column_ix])\n",
    "\n",
    "        #model 4\n",
    "        m4_input = torch.cat([x[:, m4_input_column_ix[:-1]], m3_pred], dim=-1)\n",
    "        m4_pred = ice_model(m4_input)\n",
    "\n",
    "        loss_m4 = criterion(m4_pred, x[:, m4_output_column_ix])\n",
    "        \n",
    "#         loss = (loss_m1 + loss_m2 + loss_m3 + loss_m4)\n",
    "        loss = loss_m4\n",
    "        loss.backward()\n",
    "        optimizer.step()\n",
    "        \n",
    "        loss_epoch += loss.item()\n",
    "        loss_epoch_m1 += loss_m1.item()\n",
    "        loss_epoch_m2 += loss_m2.item()\n",
    "        loss_epoch_m3 += loss_m3.item()\n",
    "        loss_epoch_m4 += loss_m4.item()\n",
    "    \n",
    "    loss_epoch = loss_epoch/len(train_loader)\n",
    "    loss_epoch_m1 = loss_epoch_m1/len(train_loader)\n",
    "    loss_epoch_m2 = loss_epoch_m2/len(train_loader)\n",
    "    loss_epoch_m3 = loss_epoch_m3/len(train_loader)\n",
    "    loss_epoch_m4 = loss_epoch_m4/len(train_loader)\n",
    "    \n",
    "    train_loss.append(loss_epoch)\n",
    "    LOSS_m1.append(loss_epoch_m1)\n",
    "    LOSS_m2.append(loss_epoch_m2)\n",
    "    LOSS_m3.append(loss_epoch_m3)\n",
    "    LOSS_m4.append(loss_epoch_m4)\n",
    "    if it % 50 == 0:\n",
    "        print(f\"Epoch : {it}, Train_loss: {train_loss[-1]}, Loss m1: {LOSS_m1[-1]}, Loss m2: {LOSS_m2[-1]}, Loss m3: {LOSS_m3[-1]}, Loss m4: {LOSS_m4[-1]}\")\n",
    "    \n",
    "    #plot the loss_m1, m2\n"
   ]
  },
  {
   "cell_type": "code",
   "execution_count": 27,
   "metadata": {},
   "outputs": [
    {
     "data": {
      "image/png": "[encoded data removed]",
      "text/plain": [
       "<Figure size 720x432 with 1 Axes>"
      ]
     },
     "metadata": {
      "needs_background": "light"
     },
     "output_type": "display_data"
    }
   ],
   "source": [
    "plt.figure(figsize=(10,6))\n",
    "plt.plot(train_loss, label = \"Train Loss\")\n",
    "plt.plot(LOSS_m1, label = \"Loss M1\")\n",
    "plt.plot(LOSS_m2, label = \"Loss M2\")\n",
    "plt.plot(LOSS_m3, label = \"Loss M3\")\n",
    "plt.plot(LOSS_m4, label = \"Loss M4\")\n",
    "plt.ylabel(\"Loss\", fontsize=15)\n",
    "plt.xlabel(\"Epoch\", fontsize=15)\n",
    "plt.yscale(\"log\")\n",
    "plt.legend(fontsize=15)\n",
    "plt.show()"
   ]
  },
  {
   "cell_type": "markdown",
   "metadata": {},
   "source": [
    "# Rollout Evaluation After FineTuning"
   ]
  },
  {
   "cell_type": "code",
   "execution_count": 28,
   "metadata": {
    "tags": []
   },
   "outputs": [
    {
     "name": "stdout",
     "output_type": "stream",
     "text": [
      "Train RMSE: 0.08582856506109238\n",
      "Train L2 Error: 0.0060318103060126305\n",
      "The RMSEs after each modelling stage: [0.12302757 0.12692747 0.09634902 0.07818707]\n"
     ]
    }
   ],
   "source": [
    "train_y_pred, train_y_true, train_rmse_models = get_rollout_predictions(heat_diff_model, mixing_model, convection_model, ice_model, train_loader, plot = True)\n",
    "train_rmse = rmse(train_y_pred.flatten(), train_y_true.flatten())\n",
    "train_l2 = l2_error(train_y_pred.flatten(), train_y_true.flatten())\n",
    "\n",
    "print(f\"Train RMSE: {train_rmse}\")\n",
    "print(f\"Train L2 Error: {train_l2}\")\n",
    "print(f\"The RMSEs after each modelling stage: {train_rmse_models.mean(axis=0)}\")"
   ]
  },
  {
   "cell_type": "code",
   "execution_count": 33,
   "metadata": {},
   "outputs": [
    {
     "data": {
      "image/png": "[encoded data removed]",
      "text/plain": [
       "<Figure size 1440x720 with 6 Axes>"
      ]
     },
     "metadata": {
      "needs_background": "light"
     },
     "output_type": "display_data"
    }
   ],
   "source": [
    "plot_output(train_y_pred, train_y_true, depth_steps, train_time, figsize=(20,10))"
   ]
  },
  {
   "cell_type": "code",
   "execution_count": 34,
   "metadata": {},
   "outputs": [
    {
     "data": {
      "text/plain": [
       "torch.Size([31900, 1])"
      ]
     },
     "execution_count": 34,
     "metadata": {},
     "output_type": "execute_result"
    }
   ],
   "source": [
    "train_y_true.shape"
   ]
  },
  {
   "cell_type": "code",
   "execution_count": 35,
   "metadata": {},
   "outputs": [
    {
     "name": "stdout",
     "output_type": "stream",
     "text": [
      "test RMSE: 0.30970528721809387\n",
      "test L2 Error: 0.019040608778595924\n",
      "The RMSEs after each modelling stage: [0.2640459  0.25080033 0.27442459 0.28259934]\n"
     ]
    }
   ],
   "source": [
    "test_y_pred, test_y_true, test_rmse_models = get_rollout_predictions(heat_diff_model, mixing_model, convection_model, ice_model, test_loader, plot = True)\n",
    "test_rmse = rmse(test_y_pred.flatten(), test_y_true.flatten())\n",
    "test_l2 = l2_error(test_y_pred.flatten(), test_y_true.flatten())\n",
    "\n",
    "print(f\"test RMSE: {test_rmse}\")\n",
    "print(f\"test L2 Error: {test_l2}\")\n",
    "print(f\"The RMSEs after each modelling stage: {test_rmse_models.mean(axis=0)}\")"
   ]
  },
  {
   "cell_type": "code",
   "execution_count": 36,
   "metadata": {},
   "outputs": [
    {
     "data": {
      "image/png": "[encoded data removed]",
      "text/plain": [
       "<Figure size 1440x720 with 6 Axes>"
      ]
     },
     "metadata": {
      "needs_background": "light"
     },
     "output_type": "display_data"
    }
   ],
   "source": [
    "plot_output(test_y_pred, test_y_true, depth_steps, test_time, figsize=(20,10))"
   ]
  },
  {
   "cell_type": "markdown",
   "metadata": {},
   "source": [
    "# Evaluate ALL Models individually"
   ]
  },
  {
   "cell_type": "markdown",
   "metadata": {},
   "source": [
    "## Heat Diffusion Model"
   ]
  },
  {
   "cell_type": "code",
   "execution_count": 37,
   "metadata": {},
   "outputs": [
    {
     "name": "stdout",
     "output_type": "stream",
     "text": [
      "Train RMSE: 0.12687455131968267, Train L2 Error: 0.00890699559893836\n",
      "Test RMSE: 0.27927414049131344, Train L2 Error: 0.017028789900498872\n"
     ]
    }
   ],
   "source": [
    "train_rmse, train_l2_err = compute_metrics(heat_diff_model, train_loader, m1_input_column_ix, m1_output_column_ix, train_mean, train_std)\n",
    "print(f\"Train RMSE: {train_rmse}, Train L2 Error: {train_l2_err}\")\n",
    "\n",
    "test_rmse, test_l2_err = compute_metrics(heat_diff_model, test_loader, m1_input_column_ix, m1_output_column_ix, train_mean, train_std)\n",
    "print(f\"Test RMSE: {test_rmse}, Train L2 Error: {test_l2_err}\")"
   ]
  },
  {
   "cell_type": "markdown",
   "metadata": {},
   "source": [
    "## Mixing Model"
   ]
  },
  {
   "cell_type": "code",
   "execution_count": 38,
   "metadata": {},
   "outputs": [
    {
     "name": "stdout",
     "output_type": "stream",
     "text": [
      "Train RMSE: 0.07420917858512996, Train L2 Error: 0.005209468775327358\n",
      "Test RMSE: 0.1590880156505948, Train L2 Error: 0.009699936835941458\n"
     ]
    }
   ],
   "source": [
    "train_rmse, train_l2_err = compute_metrics(mixing_model, train_loader, m2_input_column_ix, m2_output_column_ix, train_mean, train_std)\n",
    "print(f\"Train RMSE: {train_rmse}, Train L2 Error: {train_l2_err}\")\n",
    "\n",
    "test_rmse, test_l2_err = compute_metrics(mixing_model, test_loader, m2_input_column_ix, m2_output_column_ix, train_mean, train_std)\n",
    "print(f\"Test RMSE: {test_rmse}, Train L2 Error: {test_l2_err}\")"
   ]
  },
  {
   "cell_type": "markdown",
   "metadata": {},
   "source": [
    "## Convection Model"
   ]
  },
  {
   "cell_type": "code",
   "execution_count": 39,
   "metadata": {},
   "outputs": [
    {
     "name": "stdout",
     "output_type": "stream",
     "text": [
      "Train RMSE: 0.042646884186196735, Train L2 Error: 0.0029938414779450083\n",
      "Test RMSE: 0.11687573002634773, Train L2 Error: 0.007126338205054129\n"
     ]
    }
   ],
   "source": [
    "train_rmse, train_l2_err = compute_metrics(convection_model, train_loader, m3_input_column_ix, m3_output_column_ix, train_mean, train_std)\n",
    "print(f\"Train RMSE: {train_rmse}, Train L2 Error: {train_l2_err}\")\n",
    "\n",
    "test_rmse, test_l2_err = compute_metrics(convection_model, test_loader, m3_input_column_ix, m3_output_column_ix, train_mean, train_std)\n",
    "print(f\"Test RMSE: {test_rmse}, Train L2 Error: {test_l2_err}\")"
   ]
  },
  {
   "cell_type": "markdown",
   "metadata": {},
   "source": [
    "## Ice Model"
   ]
  },
  {
   "cell_type": "code",
   "execution_count": 40,
   "metadata": {},
   "outputs": [
    {
     "name": "stdout",
     "output_type": "stream",
     "text": [
      "Train RMSE: 0.05504516966568689, Train L2 Error: 0.003864209900684668\n",
      "Test RMSE: 0.09801691154875948, Train L2 Error: 0.005976447474200762\n"
     ]
    }
   ],
   "source": [
    "train_rmse, train_l2_err = compute_metrics(ice_model, train_loader, m4_input_column_ix, m4_output_column_ix, train_mean, train_std)\n",
    "print(f\"Train RMSE: {train_rmse}, Train L2 Error: {train_l2_err}\")\n",
    "\n",
    "test_rmse, test_l2_err = compute_metrics(ice_model, test_loader, m4_input_column_ix, m4_output_column_ix, train_mean, train_std)\n",
    "print(f\"Test RMSE: {test_rmse}, Train L2 Error: {test_l2_err}\")"
   ]
  },
  {
   "cell_type": "code",
   "execution_count": null,
   "metadata": {},
   "outputs": [],
   "source": []
  },
  {
   "cell_type": "markdown",
   "metadata": {},
   "source": [
    "# Compute Model Similarity after Finetuning"
   ]
  },
  {
   "cell_type": "code",
   "execution_count": 41,
   "metadata": {},
   "outputs": [],
   "source": [
    "def compute_model_similarity(model1, model2):\n",
    "    weight1 = []\n",
    "    weight2 = []\n",
    "    for param1, param2 in zip(model1.parameters(), model2.parameters()):\n",
    "        weight1.append(param1.detach().clone().flatten())\n",
    "        weight2.append(param2.detach().clone().flatten())\n",
    "    weight1 = torch.cat(weight1, dim=0)\n",
    "    weight2 = torch.cat(weight2, dim=0)\n",
    "    \n",
    "    #Cosine Similarity\n",
    "    cos = nn.CosineSimilarity(dim=0, eps=1e-8)\n",
    "    cos_sim = cos(weight1, weight2)\n",
    "    \n",
    "    #L2 norm\n",
    "    l2 = torch.norm((weight1-weight2), p='fro', dim=0)\n",
    "    \n",
    "    return cos_sim, l2"
   ]
  },
  {
   "cell_type": "code",
   "execution_count": 42,
   "metadata": {},
   "outputs": [
    {
     "name": "stdout",
     "output_type": "stream",
     "text": [
      "Initializing Network with Xavier Initialization..\n",
      "Cosine Similarity: 0.9996497631072998\n",
      "L2 Norm: 0.3116794228553772\n"
     ]
    }
   ],
   "source": [
    "heat_diff_model_init = MLP(m1_layers, activation=\"gelu\")\n",
    "heat_diff_model_init.load_state_dict(m1_checkpoint)\n",
    "heat_diff_model_init = heat_diff_model_init.to(device)\n",
    "\n",
    "cos_sim, l2_dist = compute_model_similarity(heat_diff_model_init, heat_diff_model)\n",
    "\n",
    "print(f\"Cosine Similarity: {cos_sim}\")\n",
    "print(f\"L2 Norm: {l2_dist}\")"
   ]
  },
  {
   "cell_type": "code",
   "execution_count": 43,
   "metadata": {},
   "outputs": [
    {
     "name": "stdout",
     "output_type": "stream",
     "text": [
      "Initializing Network with Xavier Initialization..\n",
      "Cosine Similarity: 0.9999630451202393\n",
      "L2 Norm: 0.06032521277666092\n"
     ]
    }
   ],
   "source": [
    "mixing_model_init = MLP(m2_layers, activation=\"gelu\")\n",
    "mixing_model_init.load_state_dict(m2_checkpoint)\n",
    "mixing_model_init = mixing_model_init.to(device)\n",
    "\n",
    "cos_sim, l2_dist = compute_model_similarity(mixing_model_init, mixing_model)\n",
    "\n",
    "print(f\"Cosine Similarity: {cos_sim}\")\n",
    "print(f\"L2 Norm: {l2_dist}\")"
   ]
  },
  {
   "cell_type": "code",
   "execution_count": 44,
   "metadata": {},
   "outputs": [
    {
     "name": "stdout",
     "output_type": "stream",
     "text": [
      "Initializing Network with Xavier Initialization..\n",
      "Cosine Similarity: 0.9999648928642273\n",
      "L2 Norm: 0.05843409523367882\n"
     ]
    }
   ],
   "source": [
    "convection_model_init = MLP(m3_layers, activation=\"gelu\")\n",
    "convection_model_init.load_state_dict(m3_checkpoint)\n",
    "convection_model_init = convection_model_init.to(device)\n",
    "\n",
    "cos_sim, l2_dist = compute_model_similarity(convection_model_init, convection_model)\n",
    "\n",
    "print(f\"Cosine Similarity: {cos_sim}\")\n",
    "print(f\"L2 Norm: {l2_dist}\")"
   ]
  },
  {
   "cell_type": "code",
   "execution_count": 45,
   "metadata": {},
   "outputs": [
    {
     "name": "stdout",
     "output_type": "stream",
     "text": [
      "Initializing Network with Xavier Initialization..\n",
      "Cosine Similarity: 0.9999811053276062\n",
      "L2 Norm: 0.04133516550064087\n"
     ]
    }
   ],
   "source": [
    "ice_model_init = MLP(m4_layers, activation=\"gelu\")\n",
    "ice_model_init.load_state_dict(m4_checkpoint)\n",
    "ice_model_init = ice_model_init.to(device)\n",
    "\n",
    "cos_sim, l2_dist = compute_model_similarity(ice_model_init, ice_model)\n",
    "\n",
    "print(f\"Cosine Similarity: {cos_sim}\")\n",
    "print(f\"L2 Norm: {l2_dist}\")"
   ]
  },
  {
   "cell_type": "code",
   "execution_count": null,
   "metadata": {},
   "outputs": [],
   "source": []
  },
  {
   "cell_type": "code",
   "execution_count": null,
   "metadata": {},
   "outputs": [],
   "source": []
  },
  {
   "cell_type": "code",
   "execution_count": null,
   "metadata": {},
   "outputs": [],
   "source": []
  },
  {
   "cell_type": "code",
   "execution_count": null,
   "metadata": {},
   "outputs": [],
   "source": []
  },
  {
   "cell_type": "code",
   "execution_count": null,
   "metadata": {},
   "outputs": [],
   "source": []
  }
 ],
 "metadata": {
  "kernelspec": {
   "display_name": "Python 3 (ipykernel)",
   "language": "python",
   "name": "python3"
  },
  "language_info": {
   "codemirror_mode": {
    "name": "ipython",
    "version": 3
   },
   "file_extension": ".py",
   "mimetype": "text/x-python",
   "name": "python",
   "nbconvert_exporter": "python",
   "pygments_lexer": "ipython3",
   "version": "3.9.12"
  }
 },
 "nbformat": 4,
 "nbformat_minor": 4
}
